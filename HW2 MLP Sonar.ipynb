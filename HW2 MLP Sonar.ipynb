{
 "cells": [
  {
   "cell_type": "markdown",
   "metadata": {},
   "source": [
    "Bring sonar dataset"
   ]
  },
  {
   "cell_type": "code",
   "execution_count": 1,
   "metadata": {},
   "outputs": [
    {
     "name": "stderr",
     "output_type": "stream",
     "text": [
      "Using TensorFlow backend.\n"
     ]
    },
    {
     "data": {
      "text/html": [
       "<div>\n",
       "<style scoped>\n",
       "    .dataframe tbody tr th:only-of-type {\n",
       "        vertical-align: middle;\n",
       "    }\n",
       "\n",
       "    .dataframe tbody tr th {\n",
       "        vertical-align: top;\n",
       "    }\n",
       "\n",
       "    .dataframe thead th {\n",
       "        text-align: right;\n",
       "    }\n",
       "</style>\n",
       "<table border=\"1\" class=\"dataframe\">\n",
       "  <thead>\n",
       "    <tr style=\"text-align: right;\">\n",
       "      <th></th>\n",
       "      <th>0</th>\n",
       "      <th>1</th>\n",
       "      <th>2</th>\n",
       "      <th>3</th>\n",
       "      <th>4</th>\n",
       "      <th>5</th>\n",
       "      <th>6</th>\n",
       "      <th>7</th>\n",
       "      <th>8</th>\n",
       "      <th>9</th>\n",
       "      <th>...</th>\n",
       "      <th>50</th>\n",
       "      <th>51</th>\n",
       "      <th>52</th>\n",
       "      <th>53</th>\n",
       "      <th>54</th>\n",
       "      <th>55</th>\n",
       "      <th>56</th>\n",
       "      <th>57</th>\n",
       "      <th>58</th>\n",
       "      <th>59</th>\n",
       "    </tr>\n",
       "  </thead>\n",
       "  <tbody>\n",
       "    <tr>\n",
       "      <th>0</th>\n",
       "      <td>0.0200</td>\n",
       "      <td>0.0371</td>\n",
       "      <td>0.0428</td>\n",
       "      <td>0.0207</td>\n",
       "      <td>0.0954</td>\n",
       "      <td>0.0986</td>\n",
       "      <td>0.1539</td>\n",
       "      <td>0.1601</td>\n",
       "      <td>0.3109</td>\n",
       "      <td>0.2111</td>\n",
       "      <td>...</td>\n",
       "      <td>0.0232</td>\n",
       "      <td>0.0027</td>\n",
       "      <td>0.0065</td>\n",
       "      <td>0.0159</td>\n",
       "      <td>0.0072</td>\n",
       "      <td>0.0167</td>\n",
       "      <td>0.0180</td>\n",
       "      <td>0.0084</td>\n",
       "      <td>0.0090</td>\n",
       "      <td>0.0032</td>\n",
       "    </tr>\n",
       "    <tr>\n",
       "      <th>2</th>\n",
       "      <td>0.0262</td>\n",
       "      <td>0.0582</td>\n",
       "      <td>0.1099</td>\n",
       "      <td>0.1083</td>\n",
       "      <td>0.0974</td>\n",
       "      <td>0.2280</td>\n",
       "      <td>0.2431</td>\n",
       "      <td>0.3771</td>\n",
       "      <td>0.5598</td>\n",
       "      <td>0.6194</td>\n",
       "      <td>...</td>\n",
       "      <td>0.0033</td>\n",
       "      <td>0.0232</td>\n",
       "      <td>0.0166</td>\n",
       "      <td>0.0095</td>\n",
       "      <td>0.0180</td>\n",
       "      <td>0.0244</td>\n",
       "      <td>0.0316</td>\n",
       "      <td>0.0164</td>\n",
       "      <td>0.0095</td>\n",
       "      <td>0.0078</td>\n",
       "    </tr>\n",
       "    <tr>\n",
       "      <th>3</th>\n",
       "      <td>0.0100</td>\n",
       "      <td>0.0171</td>\n",
       "      <td>0.0623</td>\n",
       "      <td>0.0205</td>\n",
       "      <td>0.0205</td>\n",
       "      <td>0.0368</td>\n",
       "      <td>0.1098</td>\n",
       "      <td>0.1276</td>\n",
       "      <td>0.0598</td>\n",
       "      <td>0.1264</td>\n",
       "      <td>...</td>\n",
       "      <td>0.0241</td>\n",
       "      <td>0.0121</td>\n",
       "      <td>0.0036</td>\n",
       "      <td>0.0150</td>\n",
       "      <td>0.0085</td>\n",
       "      <td>0.0073</td>\n",
       "      <td>0.0050</td>\n",
       "      <td>0.0044</td>\n",
       "      <td>0.0040</td>\n",
       "      <td>0.0117</td>\n",
       "    </tr>\n",
       "    <tr>\n",
       "      <th>4</th>\n",
       "      <td>0.0762</td>\n",
       "      <td>0.0666</td>\n",
       "      <td>0.0481</td>\n",
       "      <td>0.0394</td>\n",
       "      <td>0.0590</td>\n",
       "      <td>0.0649</td>\n",
       "      <td>0.1209</td>\n",
       "      <td>0.2467</td>\n",
       "      <td>0.3564</td>\n",
       "      <td>0.4459</td>\n",
       "      <td>...</td>\n",
       "      <td>0.0156</td>\n",
       "      <td>0.0031</td>\n",
       "      <td>0.0054</td>\n",
       "      <td>0.0105</td>\n",
       "      <td>0.0110</td>\n",
       "      <td>0.0015</td>\n",
       "      <td>0.0072</td>\n",
       "      <td>0.0048</td>\n",
       "      <td>0.0107</td>\n",
       "      <td>0.0094</td>\n",
       "    </tr>\n",
       "    <tr>\n",
       "      <th>5</th>\n",
       "      <td>0.0286</td>\n",
       "      <td>0.0453</td>\n",
       "      <td>0.0277</td>\n",
       "      <td>0.0174</td>\n",
       "      <td>0.0384</td>\n",
       "      <td>0.0990</td>\n",
       "      <td>0.1201</td>\n",
       "      <td>0.1833</td>\n",
       "      <td>0.2105</td>\n",
       "      <td>0.3039</td>\n",
       "      <td>...</td>\n",
       "      <td>0.0104</td>\n",
       "      <td>0.0045</td>\n",
       "      <td>0.0014</td>\n",
       "      <td>0.0038</td>\n",
       "      <td>0.0013</td>\n",
       "      <td>0.0089</td>\n",
       "      <td>0.0057</td>\n",
       "      <td>0.0027</td>\n",
       "      <td>0.0051</td>\n",
       "      <td>0.0062</td>\n",
       "    </tr>\n",
       "  </tbody>\n",
       "</table>\n",
       "<p>5 rows × 60 columns</p>\n",
       "</div>"
      ],
      "text/plain": [
       "       0       1       2       3       4       5       6       7       8   \\\n",
       "0  0.0200  0.0371  0.0428  0.0207  0.0954  0.0986  0.1539  0.1601  0.3109   \n",
       "2  0.0262  0.0582  0.1099  0.1083  0.0974  0.2280  0.2431  0.3771  0.5598   \n",
       "3  0.0100  0.0171  0.0623  0.0205  0.0205  0.0368  0.1098  0.1276  0.0598   \n",
       "4  0.0762  0.0666  0.0481  0.0394  0.0590  0.0649  0.1209  0.2467  0.3564   \n",
       "5  0.0286  0.0453  0.0277  0.0174  0.0384  0.0990  0.1201  0.1833  0.2105   \n",
       "\n",
       "       9   ...      50      51      52      53      54      55      56  \\\n",
       "0  0.2111  ...  0.0232  0.0027  0.0065  0.0159  0.0072  0.0167  0.0180   \n",
       "2  0.6194  ...  0.0033  0.0232  0.0166  0.0095  0.0180  0.0244  0.0316   \n",
       "3  0.1264  ...  0.0241  0.0121  0.0036  0.0150  0.0085  0.0073  0.0050   \n",
       "4  0.4459  ...  0.0156  0.0031  0.0054  0.0105  0.0110  0.0015  0.0072   \n",
       "5  0.3039  ...  0.0104  0.0045  0.0014  0.0038  0.0013  0.0089  0.0057   \n",
       "\n",
       "       57      58      59  \n",
       "0  0.0084  0.0090  0.0032  \n",
       "2  0.0164  0.0095  0.0078  \n",
       "3  0.0044  0.0040  0.0117  \n",
       "4  0.0048  0.0107  0.0094  \n",
       "5  0.0027  0.0051  0.0062  \n",
       "\n",
       "[5 rows x 60 columns]"
      ]
     },
     "execution_count": 1,
     "metadata": {},
     "output_type": "execute_result"
    }
   ],
   "source": [
    "import keras\n",
    "from sklearn.preprocessing import LabelBinarizer\n",
    "import matplotlib.pyplot as plt\n",
    "## Importing required libraries\n",
    "import numpy as np\n",
    "from keras.models import Sequential\n",
    "from keras.layers import Dense\n",
    "%matplotlib inline\n",
    "\n",
    "# Define function for plotting history\n",
    "import matplotlib.pyplot as plt\n",
    "def plot_metrics(history, metrics =  ['loss', 'acc']):\n",
    "  for n, metric in enumerate(metrics):\n",
    "    name = metric.replace(\"_\",\" \").capitalize()\n",
    "    #plt.figsize=(20,10)\n",
    "    plt.subplot(1,len(metrics),n+1)\n",
    "    plt.tight_layout(pad=2)\n",
    "    plt.plot(history.epoch,  history.history[metric], color=colors[0], label='Train')\n",
    "    plt.plot(history.epoch, history.history['val_'+metric],\n",
    "             color=colors[0], linestyle=\"--\", label='Val')\n",
    "    plt.xlabel('Epoch')\n",
    "    plt.ylabel(name)\n",
    "    plt.legend()\n",
    "    \n",
    "import sklearn\n",
    "import seaborn as sns\n",
    "from sklearn.metrics import confusion_matrix\n",
    "def plot_cm(labels, predictions):\n",
    "  cm = confusion_matrix(labels, predictions)\n",
    "  plt.figure(figsize=(8,8))\n",
    "  sns.heatmap(cm, annot=True, fmt=\"d\")\n",
    "  plt.title('Confusion Matrix')\n",
    "  plt.ylabel('Actual label')\n",
    "  plt.xlabel('Predicted label')\n",
    "    \n",
    "import pandas as pd\n",
    "df = pd.read_csv('sonar.csv', header=None)\n",
    "X_test = df.sample(frac=0.20, replace=True, random_state=1)\n",
    "Y_test = X_test[60]\n",
    "X_test.drop([60],axis=1, inplace=True)\n",
    "X_test.head()\n",
    "X_train = df.drop(X_test.index)\n",
    "Y_train = X_train[60]\n",
    "X_train.drop([60],axis=1, inplace=True)\n",
    "X_train.head()\n",
    "#X_test.head()\n",
    "\n",
    "\n"
   ]
  },
  {
   "cell_type": "code",
   "execution_count": 2,
   "metadata": {},
   "outputs": [
    {
     "name": "stdout",
     "output_type": "stream",
     "text": [
      "X_test shape:  (42, 60)\n",
      "X_train shape:  (168, 60)\n"
     ]
    }
   ],
   "source": [
    "\n",
    "from sklearn.preprocessing import StandardScaler\n",
    "scaler = StandardScaler()\n",
    "scaler.fit(X_train)\n",
    "X_train = pd.DataFrame(scaler.transform(X_train), index=X_train.index, columns=X_train.columns)\n",
    "X_test = pd.DataFrame(scaler.transform(X_test), index=X_test.index, columns=X_test.columns)\n",
    "print(\"X_test shape: \",X_test.shape)\n",
    "print(\"X_train shape: \",X_train.shape)"
   ]
  },
  {
   "cell_type": "code",
   "execution_count": 3,
   "metadata": {},
   "outputs": [
    {
     "name": "stdout",
     "output_type": "stream",
     "text": [
      "Train labels dimension:\n",
      "(168, 1)\n",
      "Test labels dimension:\n",
      "(42, 1)\n",
      "[1]\n"
     ]
    }
   ],
   "source": [
    "## Changing labels to one-hot encoded vector\n",
    "\n",
    "lb = LabelBinarizer()\n",
    "y_train_one_hot = lb.fit_transform(Y_train)\n",
    "y_test_one_hot = lb.transform(Y_test)\n",
    "\n",
    "print('Train labels dimension:');print(y_train_one_hot.shape)\n",
    "print('Test labels dimension:');print(y_test_one_hot.shape)\n",
    "print(y_train_one_hot[100])"
   ]
  },
  {
   "cell_type": "code",
   "execution_count": 11,
   "metadata": {},
   "outputs": [
    {
     "name": "stdout",
     "output_type": "stream",
     "text": [
      "Train on 134 samples, validate on 34 samples\n",
      "Epoch 1/32\n",
      "134/134 [==============================] - 0s 3ms/step - loss: 0.6690 - binary_accuracy: 0.6119 - val_loss: 0.6976 - val_binary_accuracy: 0.5000\n",
      "Epoch 2/32\n",
      "134/134 [==============================] - 0s 392us/step - loss: 0.4817 - binary_accuracy: 0.8060 - val_loss: 0.8819 - val_binary_accuracy: 0.3529\n",
      "Epoch 3/32\n",
      "134/134 [==============================] - 0s 377us/step - loss: 0.3961 - binary_accuracy: 0.8507 - val_loss: 0.9318 - val_binary_accuracy: 0.3235\n",
      "Epoch 4/32\n",
      "134/134 [==============================] - 0s 372us/step - loss: 0.3340 - binary_accuracy: 0.9030 - val_loss: 0.9731 - val_binary_accuracy: 0.3824\n",
      "Epoch 5/32\n",
      "134/134 [==============================] - 0s 381us/step - loss: 0.2789 - binary_accuracy: 0.9328 - val_loss: 0.9291 - val_binary_accuracy: 0.4706\n",
      "Epoch 6/32\n",
      "134/134 [==============================] - 0s 457us/step - loss: 0.2291 - binary_accuracy: 0.9478 - val_loss: 0.9081 - val_binary_accuracy: 0.5000\n",
      "Epoch 7/32\n",
      "134/134 [==============================] - 0s 710us/step - loss: 0.1808 - binary_accuracy: 0.9776 - val_loss: 0.9186 - val_binary_accuracy: 0.5000\n",
      "Epoch 8/32\n",
      "134/134 [==============================] - 0s 641us/step - loss: 0.1451 - binary_accuracy: 0.9925 - val_loss: 0.8699 - val_binary_accuracy: 0.5882\n",
      "Epoch 9/32\n",
      "134/134 [==============================] - 0s 526us/step - loss: 0.1133 - binary_accuracy: 1.0000 - val_loss: 0.8072 - val_binary_accuracy: 0.5882\n",
      "Epoch 10/32\n",
      "134/134 [==============================] - 0s 534us/step - loss: 0.0882 - binary_accuracy: 1.0000 - val_loss: 0.7817 - val_binary_accuracy: 0.5882\n",
      "Epoch 11/32\n",
      "134/134 [==============================] - 0s 416us/step - loss: 0.0673 - binary_accuracy: 1.0000 - val_loss: 0.7922 - val_binary_accuracy: 0.5882\n",
      "Epoch 12/32\n",
      "134/134 [==============================] - 0s 402us/step - loss: 0.0534 - binary_accuracy: 1.0000 - val_loss: 0.8296 - val_binary_accuracy: 0.5882\n",
      "Epoch 13/32\n",
      "134/134 [==============================] - 0s 555us/step - loss: 0.0438 - binary_accuracy: 1.0000 - val_loss: 0.8170 - val_binary_accuracy: 0.6176\n",
      "Epoch 14/32\n",
      "134/134 [==============================] - 0s 598us/step - loss: 0.0345 - binary_accuracy: 1.0000 - val_loss: 0.8123 - val_binary_accuracy: 0.6176\n",
      "Epoch 15/32\n",
      "134/134 [==============================] - 0s 472us/step - loss: 0.0276 - binary_accuracy: 1.0000 - val_loss: 0.8455 - val_binary_accuracy: 0.6176\n",
      "Epoch 16/32\n",
      "134/134 [==============================] - 0s 494us/step - loss: 0.0227 - binary_accuracy: 1.0000 - val_loss: 0.8671 - val_binary_accuracy: 0.6176\n",
      "Epoch 17/32\n",
      "134/134 [==============================] - 0s 420us/step - loss: 0.0192 - binary_accuracy: 1.0000 - val_loss: 0.8698 - val_binary_accuracy: 0.6176\n",
      "Epoch 18/32\n",
      "134/134 [==============================] - 0s 546us/step - loss: 0.0166 - binary_accuracy: 1.0000 - val_loss: 0.8602 - val_binary_accuracy: 0.6176\n",
      "Epoch 19/32\n",
      "134/134 [==============================] - 0s 532us/step - loss: 0.0139 - binary_accuracy: 1.0000 - val_loss: 0.9118 - val_binary_accuracy: 0.6176\n",
      "Epoch 20/32\n",
      "134/134 [==============================] - 0s 518us/step - loss: 0.0117 - binary_accuracy: 1.0000 - val_loss: 0.9085 - val_binary_accuracy: 0.6176\n",
      "Epoch 21/32\n",
      "134/134 [==============================] - 0s 533us/step - loss: 0.0102 - binary_accuracy: 1.0000 - val_loss: 0.9459 - val_binary_accuracy: 0.6176\n",
      "Epoch 22/32\n",
      "134/134 [==============================] - 0s 509us/step - loss: 0.0091 - binary_accuracy: 1.0000 - val_loss: 0.9556 - val_binary_accuracy: 0.6176\n",
      "Epoch 23/32\n",
      "134/134 [==============================] - 0s 607us/step - loss: 0.0079 - binary_accuracy: 1.0000 - val_loss: 0.9550 - val_binary_accuracy: 0.6176\n",
      "Epoch 24/32\n",
      "134/134 [==============================] - 0s 619us/step - loss: 0.0071 - binary_accuracy: 1.0000 - val_loss: 0.9732 - val_binary_accuracy: 0.6471\n",
      "Epoch 25/32\n",
      "134/134 [==============================] - 0s 603us/step - loss: 0.0063 - binary_accuracy: 1.0000 - val_loss: 0.9745 - val_binary_accuracy: 0.6176\n",
      "Epoch 26/32\n",
      "134/134 [==============================] - 0s 523us/step - loss: 0.0057 - binary_accuracy: 1.0000 - val_loss: 0.9948 - val_binary_accuracy: 0.6471\n",
      "Epoch 27/32\n",
      "134/134 [==============================] - 0s 477us/step - loss: 0.0051 - binary_accuracy: 1.0000 - val_loss: 0.9954 - val_binary_accuracy: 0.6471\n",
      "Epoch 28/32\n",
      "134/134 [==============================] - 0s 386us/step - loss: 0.0046 - binary_accuracy: 1.0000 - val_loss: 1.0093 - val_binary_accuracy: 0.6471\n",
      "Epoch 29/32\n",
      "134/134 [==============================] - 0s 371us/step - loss: 0.0042 - binary_accuracy: 1.0000 - val_loss: 1.0225 - val_binary_accuracy: 0.6471\n",
      "Epoch 30/32\n",
      "134/134 [==============================] - 0s 449us/step - loss: 0.0039 - binary_accuracy: 1.0000 - val_loss: 1.0444 - val_binary_accuracy: 0.6471\n",
      "Epoch 31/32\n",
      "134/134 [==============================] - 0s 423us/step - loss: 0.0035 - binary_accuracy: 1.0000 - val_loss: 1.0313 - val_binary_accuracy: 0.6471\n",
      "Epoch 32/32\n",
      "134/134 [==============================] - 0s 384us/step - loss: 0.0033 - binary_accuracy: 1.0000 - val_loss: 1.0421 - val_binary_accuracy: 0.6471\n"
     ]
    }
   ],
   "source": [
    "# Defining various initialization parameters for 61-64-16-1 MLP model\n",
    "num_classes = y_train_one_hot.shape[1]; num_features = X_train.shape[1]\n",
    "num_layers_0 = 64; num_layers_1 = 16\n",
    "\n",
    "# Define the keras model\n",
    "model = Sequential()\n",
    "model.add(Dense(num_layers_0, input_dim=num_features, activation='relu'))\n",
    "model.add(Dense(num_layers_1, activation='relu'))\n",
    "model.add(Dense(num_classes, activation='sigmoid'))\n",
    "\n",
    "# Compile the keras model\n",
    "model.compile(loss='binary_crossentropy', optimizer='adam', metrics=['binary_accuracy'])\n",
    "# Fit keras model\n",
    "history = model.fit(X_train, y_train_one_hot, epochs=32, batch_size=4, validation_split = 0.20)"
   ]
  },
  {
   "cell_type": "code",
   "execution_count": 12,
   "metadata": {},
   "outputs": [
    {
     "data": {
      "image/png": "[encoded data removed]",
      "text/plain": [
       "<Figure size 432x288 with 1 Axes>"
      ]
     },
     "metadata": {
      "needs_background": "light"
     },
     "output_type": "display_data"
    }
   ],
   "source": [
    "# Plot the training/validation history of our Keras model\n",
    "colors = plt.rcParams['axes.prop_cycle'].by_key()['color']\n",
    "plot_metrics(history,  metrics =  ['loss'])"
   ]
  },
  {
   "cell_type": "code",
   "execution_count": 13,
   "metadata": {},
   "outputs": [
    {
     "data": {
      "image/png": "[encoded data removed]",
      "text/plain": [
       "<Figure size 432x288 with 1 Axes>"
      ]
     },
     "metadata": {
      "needs_background": "light"
     },
     "output_type": "display_data"
    }
   ],
   "source": [
    "plot_metrics(history,  metrics =  ['binary_accuracy']) "
   ]
  },
  {
   "cell_type": "code",
   "execution_count": 17,
   "metadata": {},
   "outputs": [
    {
     "name": "stdout",
     "output_type": "stream",
     "text": [
      "42/42 [==============================] - 0s 1ms/step\n",
      "loss :  0.6340924788099397\n",
      "\n",
      "binary_accuracy :  0.8333333333333334\n",
      "\n"
     ]
    },
    {
     "data": {
      "image/png": "[encoded data removed]",
      "text/plain": [
       "<Figure size 576x576 with 2 Axes>"
      ]
     },
     "metadata": {
      "needs_background": "light"
     },
     "output_type": "display_data"
    }
   ],
   "source": [
    "y_test_predictions = model.predict_classes(X_test, batch_size=1)\n",
    "baseline_results = model.evaluate(X_test, y_test_one_hot,\n",
    "                                  batch_size=1, verbose=1)\n",
    "\n",
    "for name, value in zip(model.metrics_names, baseline_results):\n",
    "  print(name, ': ', value)\n",
    "  print()\n",
    "\n",
    "plot_cm(y_test_one_hot, y_test_predictions)"
   ]
  },
  {
   "cell_type": "code",
   "execution_count": 18,
   "metadata": {},
   "outputs": [
    {
     "name": "stdout",
     "output_type": "stream",
     "text": [
      "Train on 134 samples, validate on 34 samples\n",
      "Epoch 1/64\n",
      "134/134 [==============================] - 0s 3ms/step - loss: 0.7373 - binary_accuracy: 0.4478 - val_loss: 0.6612 - val_binary_accuracy: 0.4706\n",
      "Epoch 2/64\n",
      "134/134 [==============================] - 0s 219us/step - loss: 0.6636 - binary_accuracy: 0.5970 - val_loss: 0.7019 - val_binary_accuracy: 0.3235\n",
      "Epoch 3/64\n",
      "134/134 [==============================] - 0s 272us/step - loss: 0.6280 - binary_accuracy: 0.6493 - val_loss: 0.7283 - val_binary_accuracy: 0.3529\n",
      "Epoch 4/64\n",
      "134/134 [==============================] - 0s 244us/step - loss: 0.6002 - binary_accuracy: 0.7164 - val_loss: 0.7572 - val_binary_accuracy: 0.3529\n",
      "Epoch 5/64\n",
      "134/134 [==============================] - 0s 341us/step - loss: 0.5758 - binary_accuracy: 0.7537 - val_loss: 0.7701 - val_binary_accuracy: 0.3529\n",
      "Epoch 6/64\n",
      "134/134 [==============================] - 0s 396us/step - loss: 0.5517 - binary_accuracy: 0.7910 - val_loss: 0.8029 - val_binary_accuracy: 0.3235\n",
      "Epoch 7/64\n",
      "134/134 [==============================] - 0s 514us/step - loss: 0.5276 - binary_accuracy: 0.7761 - val_loss: 0.8103 - val_binary_accuracy: 0.3529\n",
      "Epoch 8/64\n",
      "134/134 [==============================] - 0s 387us/step - loss: 0.5047 - binary_accuracy: 0.7985 - val_loss: 0.8334 - val_binary_accuracy: 0.3824\n",
      "Epoch 9/64\n",
      "134/134 [==============================] - 0s 344us/step - loss: 0.4770 - binary_accuracy: 0.8134 - val_loss: 0.8617 - val_binary_accuracy: 0.3529\n",
      "Epoch 10/64\n",
      "134/134 [==============================] - 0s 365us/step - loss: 0.4471 - binary_accuracy: 0.8060 - val_loss: 0.8957 - val_binary_accuracy: 0.3529\n",
      "Epoch 11/64\n",
      "134/134 [==============================] - 0s 463us/step - loss: 0.4175 - binary_accuracy: 0.8433 - val_loss: 0.9129 - val_binary_accuracy: 0.3824\n",
      "Epoch 12/64\n",
      "134/134 [==============================] - 0s 316us/step - loss: 0.3955 - binary_accuracy: 0.8284 - val_loss: 0.9116 - val_binary_accuracy: 0.4118\n",
      "Epoch 13/64\n",
      "134/134 [==============================] - 0s 266us/step - loss: 0.3706 - binary_accuracy: 0.8507 - val_loss: 0.9223 - val_binary_accuracy: 0.4412\n",
      "Epoch 14/64\n",
      "134/134 [==============================] - 0s 351us/step - loss: 0.3498 - binary_accuracy: 0.8657 - val_loss: 0.9053 - val_binary_accuracy: 0.4412\n",
      "Epoch 15/64\n",
      "134/134 [==============================] - 0s 325us/step - loss: 0.3296 - binary_accuracy: 0.8806 - val_loss: 0.8997 - val_binary_accuracy: 0.5000\n",
      "Epoch 16/64\n",
      "134/134 [==============================] - 0s 359us/step - loss: 0.3076 - binary_accuracy: 0.8881 - val_loss: 0.9031 - val_binary_accuracy: 0.5000\n",
      "Epoch 17/64\n",
      "134/134 [==============================] - 0s 292us/step - loss: 0.2945 - binary_accuracy: 0.8955 - val_loss: 0.8966 - val_binary_accuracy: 0.5000\n",
      "Epoch 18/64\n",
      "134/134 [==============================] - 0s 309us/step - loss: 0.2778 - binary_accuracy: 0.9030 - val_loss: 0.8677 - val_binary_accuracy: 0.5294\n",
      "Epoch 19/64\n",
      "134/134 [==============================] - 0s 281us/step - loss: 0.2623 - binary_accuracy: 0.9104 - val_loss: 0.8628 - val_binary_accuracy: 0.5294\n",
      "Epoch 20/64\n",
      "134/134 [==============================] - 0s 297us/step - loss: 0.2499 - binary_accuracy: 0.9179 - val_loss: 0.8392 - val_binary_accuracy: 0.5294\n",
      "Epoch 21/64\n",
      "134/134 [==============================] - 0s 308us/step - loss: 0.2357 - binary_accuracy: 0.9254 - val_loss: 0.8488 - val_binary_accuracy: 0.5294\n",
      "Epoch 22/64\n",
      "134/134 [==============================] - 0s 348us/step - loss: 0.2257 - binary_accuracy: 0.9254 - val_loss: 0.8638 - val_binary_accuracy: 0.5294\n",
      "Epoch 23/64\n",
      "134/134 [==============================] - 0s 345us/step - loss: 0.2140 - binary_accuracy: 0.9328 - val_loss: 0.8671 - val_binary_accuracy: 0.5294\n",
      "Epoch 24/64\n",
      "134/134 [==============================] - 0s 315us/step - loss: 0.2032 - binary_accuracy: 0.9403 - val_loss: 0.8388 - val_binary_accuracy: 0.5294\n",
      "Epoch 25/64\n",
      "134/134 [==============================] - 0s 327us/step - loss: 0.1943 - binary_accuracy: 0.9403 - val_loss: 0.8256 - val_binary_accuracy: 0.5294\n",
      "Epoch 26/64\n",
      "134/134 [==============================] - 0s 341us/step - loss: 0.1851 - binary_accuracy: 0.9552 - val_loss: 0.8374 - val_binary_accuracy: 0.5294\n",
      "Epoch 27/64\n",
      "134/134 [==============================] - 0s 346us/step - loss: 0.1768 - binary_accuracy: 0.9627 - val_loss: 0.8295 - val_binary_accuracy: 0.5294\n",
      "Epoch 28/64\n",
      "134/134 [==============================] - 0s 392us/step - loss: 0.1682 - binary_accuracy: 0.9627 - val_loss: 0.8162 - val_binary_accuracy: 0.5294\n",
      "Epoch 29/64\n",
      "134/134 [==============================] - 0s 429us/step - loss: 0.1582 - binary_accuracy: 0.9627 - val_loss: 0.8021 - val_binary_accuracy: 0.5882\n",
      "Epoch 30/64\n",
      "134/134 [==============================] - 0s 421us/step - loss: 0.1509 - binary_accuracy: 0.9627 - val_loss: 0.8174 - val_binary_accuracy: 0.5294\n",
      "Epoch 31/64\n",
      "134/134 [==============================] - 0s 412us/step - loss: 0.1422 - binary_accuracy: 0.9627 - val_loss: 0.8008 - val_binary_accuracy: 0.5882\n",
      "Epoch 32/64\n",
      "134/134 [==============================] - 0s 307us/step - loss: 0.1376 - binary_accuracy: 0.9701 - val_loss: 0.7908 - val_binary_accuracy: 0.5882\n",
      "Epoch 33/64\n",
      "134/134 [==============================] - 0s 305us/step - loss: 0.1317 - binary_accuracy: 0.9701 - val_loss: 0.7975 - val_binary_accuracy: 0.5882\n",
      "Epoch 34/64\n",
      "134/134 [==============================] - 0s 388us/step - loss: 0.1254 - binary_accuracy: 0.9701 - val_loss: 0.8002 - val_binary_accuracy: 0.5588\n",
      "Epoch 35/64\n",
      "134/134 [==============================] - 0s 287us/step - loss: 0.1181 - binary_accuracy: 0.9701 - val_loss: 0.8080 - val_binary_accuracy: 0.5882\n",
      "Epoch 36/64\n",
      "134/134 [==============================] - 0s 341us/step - loss: 0.1141 - binary_accuracy: 0.9701 - val_loss: 0.7897 - val_binary_accuracy: 0.5882\n",
      "Epoch 37/64\n",
      "134/134 [==============================] - 0s 342us/step - loss: 0.1091 - binary_accuracy: 0.9776 - val_loss: 0.8090 - val_binary_accuracy: 0.5882\n",
      "Epoch 38/64\n",
      "134/134 [==============================] - 0s 320us/step - loss: 0.1035 - binary_accuracy: 0.9701 - val_loss: 0.8050 - val_binary_accuracy: 0.5882\n",
      "Epoch 39/64\n",
      "134/134 [==============================] - 0s 296us/step - loss: 0.0992 - binary_accuracy: 0.9776 - val_loss: 0.7702 - val_binary_accuracy: 0.5882\n",
      "Epoch 40/64\n",
      "134/134 [==============================] - 0s 311us/step - loss: 0.0944 - binary_accuracy: 0.9776 - val_loss: 0.7699 - val_binary_accuracy: 0.5882\n",
      "Epoch 41/64\n",
      "134/134 [==============================] - 0s 239us/step - loss: 0.0904 - binary_accuracy: 0.9776 - val_loss: 0.7783 - val_binary_accuracy: 0.6176\n",
      "Epoch 42/64\n",
      "134/134 [==============================] - 0s 231us/step - loss: 0.0878 - binary_accuracy: 0.9776 - val_loss: 0.7768 - val_binary_accuracy: 0.6176\n",
      "Epoch 43/64\n",
      "134/134 [==============================] - 0s 299us/step - loss: 0.0822 - binary_accuracy: 0.9776 - val_loss: 0.7689 - val_binary_accuracy: 0.6176\n",
      "Epoch 44/64\n",
      "134/134 [==============================] - 0s 307us/step - loss: 0.0791 - binary_accuracy: 0.9776 - val_loss: 0.7806 - val_binary_accuracy: 0.6176\n",
      "Epoch 45/64\n",
      "134/134 [==============================] - 0s 319us/step - loss: 0.0761 - binary_accuracy: 0.9776 - val_loss: 0.7827 - val_binary_accuracy: 0.6176\n",
      "Epoch 46/64\n",
      "134/134 [==============================] - 0s 300us/step - loss: 0.0732 - binary_accuracy: 0.9776 - val_loss: 0.7860 - val_binary_accuracy: 0.6471\n",
      "Epoch 47/64\n",
      "134/134 [==============================] - 0s 304us/step - loss: 0.0695 - binary_accuracy: 0.9776 - val_loss: 0.7577 - val_binary_accuracy: 0.6471\n",
      "Epoch 48/64\n",
      "134/134 [==============================] - 0s 268us/step - loss: 0.0671 - binary_accuracy: 0.9776 - val_loss: 0.7501 - val_binary_accuracy: 0.6765\n",
      "Epoch 49/64\n",
      "134/134 [==============================] - 0s 230us/step - loss: 0.0639 - binary_accuracy: 0.9776 - val_loss: 0.7627 - val_binary_accuracy: 0.6765\n",
      "Epoch 50/64\n",
      "134/134 [==============================] - 0s 246us/step - loss: 0.0619 - binary_accuracy: 0.9776 - val_loss: 0.7495 - val_binary_accuracy: 0.6765\n",
      "Epoch 51/64\n",
      "134/134 [==============================] - 0s 230us/step - loss: 0.0595 - binary_accuracy: 0.9776 - val_loss: 0.7620 - val_binary_accuracy: 0.6765\n",
      "Epoch 52/64\n"
     ]
    },
    {
     "name": "stdout",
     "output_type": "stream",
     "text": [
      "134/134 [==============================] - 0s 208us/step - loss: 0.0569 - binary_accuracy: 0.9776 - val_loss: 0.7466 - val_binary_accuracy: 0.6765\n",
      "Epoch 53/64\n",
      "134/134 [==============================] - 0s 211us/step - loss: 0.0547 - binary_accuracy: 0.9776 - val_loss: 0.7569 - val_binary_accuracy: 0.6765\n",
      "Epoch 54/64\n",
      "134/134 [==============================] - 0s 203us/step - loss: 0.0522 - binary_accuracy: 0.9776 - val_loss: 0.7571 - val_binary_accuracy: 0.6765\n",
      "Epoch 55/64\n",
      "134/134 [==============================] - 0s 229us/step - loss: 0.0504 - binary_accuracy: 0.9776 - val_loss: 0.7734 - val_binary_accuracy: 0.6765\n",
      "Epoch 56/64\n",
      "134/134 [==============================] - 0s 291us/step - loss: 0.0485 - binary_accuracy: 0.9776 - val_loss: 0.7724 - val_binary_accuracy: 0.6765\n",
      "Epoch 57/64\n",
      "134/134 [==============================] - 0s 212us/step - loss: 0.0473 - binary_accuracy: 0.9776 - val_loss: 0.7673 - val_binary_accuracy: 0.6765\n",
      "Epoch 58/64\n",
      "134/134 [==============================] - 0s 236us/step - loss: 0.0447 - binary_accuracy: 0.9851 - val_loss: 0.7655 - val_binary_accuracy: 0.6765\n",
      "Epoch 59/64\n",
      "134/134 [==============================] - 0s 206us/step - loss: 0.0428 - binary_accuracy: 0.9776 - val_loss: 0.7623 - val_binary_accuracy: 0.6765\n",
      "Epoch 60/64\n",
      "134/134 [==============================] - 0s 212us/step - loss: 0.0418 - binary_accuracy: 0.9851 - val_loss: 0.7713 - val_binary_accuracy: 0.7059\n",
      "Epoch 61/64\n",
      "134/134 [==============================] - 0s 243us/step - loss: 0.0398 - binary_accuracy: 0.9925 - val_loss: 0.7864 - val_binary_accuracy: 0.6765\n",
      "Epoch 62/64\n",
      "134/134 [==============================] - 0s 197us/step - loss: 0.0384 - binary_accuracy: 0.9925 - val_loss: 0.7578 - val_binary_accuracy: 0.7353\n",
      "Epoch 63/64\n",
      "134/134 [==============================] - 0s 210us/step - loss: 0.0374 - binary_accuracy: 0.9925 - val_loss: 0.7648 - val_binary_accuracy: 0.7353\n",
      "Epoch 64/64\n",
      "134/134 [==============================] - 0s 210us/step - loss: 0.0360 - binary_accuracy: 0.9925 - val_loss: 0.7731 - val_binary_accuracy: 0.7353\n"
     ]
    }
   ],
   "source": [
    "# Defining various initialization parameters for 61-64-16-32-1 MLP model\n",
    "num_classes = y_train_one_hot.shape[1]; num_features = X_train.shape[1]\n",
    "num_layers_0 = 32; num_layers_1 = 16; num_layers_2 = 8\n",
    "\n",
    "# Define the keras model\n",
    "model2 = Sequential()\n",
    "model2.add(Dense(num_layers_0, input_dim=num_features, activation='linear'))\n",
    "model2.add(Dense(num_layers_1, activation='sigmoid'))\n",
    "model2.add(Dense(num_layers_2, activation='relu'))\n",
    "model2.add(Dense(num_classes, activation='sigmoid'))\n",
    "\n",
    "# Compile the keras model\n",
    "model2.compile(loss='binary_crossentropy', optimizer='adam', metrics=['binary_accuracy'])\n",
    "# Fit keras model\n",
    "history2 = model2.fit(X_train, y_train_one_hot, epochs=64, batch_size=8, validation_split = 0.20)"
   ]
  },
  {
   "cell_type": "code",
   "execution_count": 19,
   "metadata": {},
   "outputs": [
    {
     "data": {
      "image/png": "[encoded data removed]",
      "text/plain": [
       "<Figure size 432x288 with 1 Axes>"
      ]
     },
     "metadata": {
      "needs_background": "light"
     },
     "output_type": "display_data"
    }
   ],
   "source": [
    "plot_metrics(history2, metrics =  ['loss'])"
   ]
  },
  {
   "cell_type": "code",
   "execution_count": 20,
   "metadata": {},
   "outputs": [
    {
     "data": {
      "image/png": "[encoded data removed]",
      "text/plain": [
       "<Figure size 432x288 with 1 Axes>"
      ]
     },
     "metadata": {
      "needs_background": "light"
     },
     "output_type": "display_data"
    }
   ],
   "source": [
    "plot_metrics(history2, metrics =  ['binary_accuracy'])"
   ]
  },
  {
   "cell_type": "code",
   "execution_count": 22,
   "metadata": {},
   "outputs": [
    {
     "name": "stdout",
     "output_type": "stream",
     "text": [
      "42/42 [==============================] - 0s 611us/step\n",
      "loss :  0.4634486438562384\n",
      "\n",
      "binary_accuracy :  0.8809523809523809\n",
      "\n"
     ]
    },
    {
     "data": {
      "image/png": "[encoded data removed]",
      "text/plain": [
       "<Figure size 576x576 with 2 Axes>"
      ]
     },
     "metadata": {
      "needs_background": "light"
     },
     "output_type": "display_data"
    }
   ],
   "source": [
    "y_test_predictions = model2.predict_classes(X_test, batch_size=1)\n",
    "baseline_results = model2.evaluate(X_test, y_test_one_hot,\n",
    "                                  batch_size=1, verbose=1)\n",
    "\n",
    "for name, value in zip(model2.metrics_names, baseline_results):\n",
    "  print(name, ': ', value)\n",
    "  print()\n",
    "\n",
    "plot_cm(y_test_one_hot, y_test_predictions)"
   ]
  },
  {
   "cell_type": "code",
   "execution_count": null,
   "metadata": {},
   "outputs": [],
   "source": []
  }
 ],
 "metadata": {
  "kernelspec": {
   "display_name": "Python 3",
   "language": "python",
   "name": "python3"
  },
  "language_info": {
   "codemirror_mode": {
    "name": "ipython",
    "version": 3
   },
   "file_extension": ".py",
   "mimetype": "text/x-python",
   "name": "python",
   "nbconvert_exporter": "python",
   "pygments_lexer": "ipython3",
   "version": "3.7.4"
  }
 },
 "nbformat": 4,
 "nbformat_minor": 2
}
