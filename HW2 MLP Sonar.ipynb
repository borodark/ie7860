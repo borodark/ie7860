{
 "cells": [
  {
   "cell_type": "markdown",
   "metadata": {},
   "source": [
    "# Manual Fit of Sonar Dataset"
   ]
  },
  {
   "cell_type": "code",
   "execution_count": 12,
   "metadata": {},
   "outputs": [],
   "source": [
    "import keras\n",
    "from sklearn.preprocessing import LabelBinarizer\n",
    "import matplotlib.pyplot as plt\n",
    "## Importing required libraries\n",
    "import numpy as np\n",
    "from keras.models import Sequential\n",
    "from keras.layers import Dense\n",
    "%matplotlib inline\n",
    "\n",
    "# Define function for plotting history\n",
    "import matplotlib.pyplot as plt\n",
    "def plot_metrics(history, metrics =  ['loss', 'acc']):\n",
    "  for n, metric in enumerate(metrics):\n",
    "    name = metric.replace(\"_\",\" \").capitalize()\n",
    "    #plt.figsize=(20,10)\n",
    "    plt.subplot(1,len(metrics),n+1)\n",
    "    plt.tight_layout(pad=2)\n",
    "    plt.plot(history.epoch,  history.history[metric], color=colors[0], label='Train')\n",
    "    plt.plot(history.epoch, history.history['val_'+metric],\n",
    "             color=colors[0], linestyle=\"--\", label='Val')\n",
    "    plt.xlabel('Epoch')\n",
    "    plt.ylabel(name)\n",
    "    plt.legend()\n",
    "    \n",
    "import sklearn\n",
    "import seaborn as sns\n",
    "from sklearn.metrics import confusion_matrix\n",
    "def plot_cm(labels, predictions):\n",
    "  cm = confusion_matrix(labels, predictions)\n",
    "  plt.figure(figsize=(8,8))\n",
    "  sns.heatmap(cm, annot=True, fmt=\"d\")\n",
    "  plt.title('Confusion Matrix')\n",
    "  plt.ylabel('Actual label')\n",
    "  plt.xlabel('Predicted label')"
   ]
  },
  {
   "cell_type": "markdown",
   "metadata": {},
   "source": [
    "## Import sonar dataset"
   ]
  },
  {
   "cell_type": "code",
   "execution_count": 13,
   "metadata": {},
   "outputs": [
    {
     "data": {
      "text/html": [
       "<div>\n",
       "<style scoped>\n",
       "    .dataframe tbody tr th:only-of-type {\n",
       "        vertical-align: middle;\n",
       "    }\n",
       "\n",
       "    .dataframe tbody tr th {\n",
       "        vertical-align: top;\n",
       "    }\n",
       "\n",
       "    .dataframe thead th {\n",
       "        text-align: right;\n",
       "    }\n",
       "</style>\n",
       "<table border=\"1\" class=\"dataframe\">\n",
       "  <thead>\n",
       "    <tr style=\"text-align: right;\">\n",
       "      <th></th>\n",
       "      <th>0</th>\n",
       "      <th>1</th>\n",
       "      <th>2</th>\n",
       "      <th>3</th>\n",
       "      <th>4</th>\n",
       "      <th>5</th>\n",
       "      <th>6</th>\n",
       "      <th>7</th>\n",
       "      <th>8</th>\n",
       "      <th>9</th>\n",
       "      <th>...</th>\n",
       "      <th>50</th>\n",
       "      <th>51</th>\n",
       "      <th>52</th>\n",
       "      <th>53</th>\n",
       "      <th>54</th>\n",
       "      <th>55</th>\n",
       "      <th>56</th>\n",
       "      <th>57</th>\n",
       "      <th>58</th>\n",
       "      <th>59</th>\n",
       "    </tr>\n",
       "  </thead>\n",
       "  <tbody>\n",
       "    <tr>\n",
       "      <th>0</th>\n",
       "      <td>0.0200</td>\n",
       "      <td>0.0371</td>\n",
       "      <td>0.0428</td>\n",
       "      <td>0.0207</td>\n",
       "      <td>0.0954</td>\n",
       "      <td>0.0986</td>\n",
       "      <td>0.1539</td>\n",
       "      <td>0.1601</td>\n",
       "      <td>0.3109</td>\n",
       "      <td>0.2111</td>\n",
       "      <td>...</td>\n",
       "      <td>0.0232</td>\n",
       "      <td>0.0027</td>\n",
       "      <td>0.0065</td>\n",
       "      <td>0.0159</td>\n",
       "      <td>0.0072</td>\n",
       "      <td>0.0167</td>\n",
       "      <td>0.0180</td>\n",
       "      <td>0.0084</td>\n",
       "      <td>0.0090</td>\n",
       "      <td>0.0032</td>\n",
       "    </tr>\n",
       "    <tr>\n",
       "      <th>2</th>\n",
       "      <td>0.0262</td>\n",
       "      <td>0.0582</td>\n",
       "      <td>0.1099</td>\n",
       "      <td>0.1083</td>\n",
       "      <td>0.0974</td>\n",
       "      <td>0.2280</td>\n",
       "      <td>0.2431</td>\n",
       "      <td>0.3771</td>\n",
       "      <td>0.5598</td>\n",
       "      <td>0.6194</td>\n",
       "      <td>...</td>\n",
       "      <td>0.0033</td>\n",
       "      <td>0.0232</td>\n",
       "      <td>0.0166</td>\n",
       "      <td>0.0095</td>\n",
       "      <td>0.0180</td>\n",
       "      <td>0.0244</td>\n",
       "      <td>0.0316</td>\n",
       "      <td>0.0164</td>\n",
       "      <td>0.0095</td>\n",
       "      <td>0.0078</td>\n",
       "    </tr>\n",
       "    <tr>\n",
       "      <th>3</th>\n",
       "      <td>0.0100</td>\n",
       "      <td>0.0171</td>\n",
       "      <td>0.0623</td>\n",
       "      <td>0.0205</td>\n",
       "      <td>0.0205</td>\n",
       "      <td>0.0368</td>\n",
       "      <td>0.1098</td>\n",
       "      <td>0.1276</td>\n",
       "      <td>0.0598</td>\n",
       "      <td>0.1264</td>\n",
       "      <td>...</td>\n",
       "      <td>0.0241</td>\n",
       "      <td>0.0121</td>\n",
       "      <td>0.0036</td>\n",
       "      <td>0.0150</td>\n",
       "      <td>0.0085</td>\n",
       "      <td>0.0073</td>\n",
       "      <td>0.0050</td>\n",
       "      <td>0.0044</td>\n",
       "      <td>0.0040</td>\n",
       "      <td>0.0117</td>\n",
       "    </tr>\n",
       "    <tr>\n",
       "      <th>4</th>\n",
       "      <td>0.0762</td>\n",
       "      <td>0.0666</td>\n",
       "      <td>0.0481</td>\n",
       "      <td>0.0394</td>\n",
       "      <td>0.0590</td>\n",
       "      <td>0.0649</td>\n",
       "      <td>0.1209</td>\n",
       "      <td>0.2467</td>\n",
       "      <td>0.3564</td>\n",
       "      <td>0.4459</td>\n",
       "      <td>...</td>\n",
       "      <td>0.0156</td>\n",
       "      <td>0.0031</td>\n",
       "      <td>0.0054</td>\n",
       "      <td>0.0105</td>\n",
       "      <td>0.0110</td>\n",
       "      <td>0.0015</td>\n",
       "      <td>0.0072</td>\n",
       "      <td>0.0048</td>\n",
       "      <td>0.0107</td>\n",
       "      <td>0.0094</td>\n",
       "    </tr>\n",
       "    <tr>\n",
       "      <th>5</th>\n",
       "      <td>0.0286</td>\n",
       "      <td>0.0453</td>\n",
       "      <td>0.0277</td>\n",
       "      <td>0.0174</td>\n",
       "      <td>0.0384</td>\n",
       "      <td>0.0990</td>\n",
       "      <td>0.1201</td>\n",
       "      <td>0.1833</td>\n",
       "      <td>0.2105</td>\n",
       "      <td>0.3039</td>\n",
       "      <td>...</td>\n",
       "      <td>0.0104</td>\n",
       "      <td>0.0045</td>\n",
       "      <td>0.0014</td>\n",
       "      <td>0.0038</td>\n",
       "      <td>0.0013</td>\n",
       "      <td>0.0089</td>\n",
       "      <td>0.0057</td>\n",
       "      <td>0.0027</td>\n",
       "      <td>0.0051</td>\n",
       "      <td>0.0062</td>\n",
       "    </tr>\n",
       "  </tbody>\n",
       "</table>\n",
       "<p>5 rows × 60 columns</p>\n",
       "</div>"
      ],
      "text/plain": [
       "       0       1       2       3       4       5       6       7       8   \\\n",
       "0  0.0200  0.0371  0.0428  0.0207  0.0954  0.0986  0.1539  0.1601  0.3109   \n",
       "2  0.0262  0.0582  0.1099  0.1083  0.0974  0.2280  0.2431  0.3771  0.5598   \n",
       "3  0.0100  0.0171  0.0623  0.0205  0.0205  0.0368  0.1098  0.1276  0.0598   \n",
       "4  0.0762  0.0666  0.0481  0.0394  0.0590  0.0649  0.1209  0.2467  0.3564   \n",
       "5  0.0286  0.0453  0.0277  0.0174  0.0384  0.0990  0.1201  0.1833  0.2105   \n",
       "\n",
       "       9   ...      50      51      52      53      54      55      56  \\\n",
       "0  0.2111  ...  0.0232  0.0027  0.0065  0.0159  0.0072  0.0167  0.0180   \n",
       "2  0.6194  ...  0.0033  0.0232  0.0166  0.0095  0.0180  0.0244  0.0316   \n",
       "3  0.1264  ...  0.0241  0.0121  0.0036  0.0150  0.0085  0.0073  0.0050   \n",
       "4  0.4459  ...  0.0156  0.0031  0.0054  0.0105  0.0110  0.0015  0.0072   \n",
       "5  0.3039  ...  0.0104  0.0045  0.0014  0.0038  0.0013  0.0089  0.0057   \n",
       "\n",
       "       57      58      59  \n",
       "0  0.0084  0.0090  0.0032  \n",
       "2  0.0164  0.0095  0.0078  \n",
       "3  0.0044  0.0040  0.0117  \n",
       "4  0.0048  0.0107  0.0094  \n",
       "5  0.0027  0.0051  0.0062  \n",
       "\n",
       "[5 rows x 60 columns]"
      ]
     },
     "execution_count": 13,
     "metadata": {},
     "output_type": "execute_result"
    }
   ],
   "source": [
    "    \n",
    "import pandas as pd\n",
    "df = pd.read_csv('sonar.csv', header=None)\n",
    "X_test = df.sample(frac=0.20, replace=True, random_state=1)\n",
    "Y_test = X_test[60]\n",
    "X_test.drop([60],axis=1, inplace=True)\n",
    "X_test.head()\n",
    "X_train = df.drop(X_test.index)\n",
    "Y_train = X_train[60]\n",
    "X_train.drop([60],axis=1, inplace=True)\n",
    "X_train.head()"
   ]
  },
  {
   "cell_type": "code",
   "execution_count": 14,
   "metadata": {},
   "outputs": [
    {
     "name": "stdout",
     "output_type": "stream",
     "text": [
      "X_test shape:  (42, 60)\n",
      "X_train shape:  (168, 60)\n"
     ]
    }
   ],
   "source": [
    "\n",
    "from sklearn.preprocessing import StandardScaler\n",
    "scaler = StandardScaler()\n",
    "scaler.fit(X_train)\n",
    "X_train = pd.DataFrame(scaler.transform(X_train), index=X_train.index, columns=X_train.columns)\n",
    "X_test = pd.DataFrame(scaler.transform(X_test), index=X_test.index, columns=X_test.columns)\n",
    "print(\"X_test shape: \",X_test.shape)\n",
    "print(\"X_train shape: \",X_train.shape)"
   ]
  },
  {
   "cell_type": "code",
   "execution_count": 15,
   "metadata": {},
   "outputs": [
    {
     "name": "stdout",
     "output_type": "stream",
     "text": [
      "Train labels dimension:\n",
      "(168, 1)\n",
      "Test labels dimension:\n",
      "(42, 1)\n",
      "[1]\n"
     ]
    }
   ],
   "source": [
    "## Changing labels to one-hot encoded vector\n",
    "\n",
    "lb = LabelBinarizer()\n",
    "y_train_one_hot = lb.fit_transform(Y_train)\n",
    "y_test_one_hot = lb.transform(Y_test)\n",
    "\n",
    "print('Train labels dimension:');print(y_train_one_hot.shape)\n",
    "print('Test labels dimension:');print(y_test_one_hot.shape)\n",
    "print(y_train_one_hot[100])"
   ]
  },
  {
   "cell_type": "code",
   "execution_count": 29,
   "metadata": {},
   "outputs": [
    {
     "name": "stdout",
     "output_type": "stream",
     "text": [
      "Train on 134 samples, validate on 34 samples\n",
      "Epoch 1/64\n",
      "134/134 [==============================] - 0s 1ms/step - loss: 4.4657 - binary_accuracy: 0.5448 - val_loss: 8.8136 - val_binary_accuracy: 0.0294\n",
      "Epoch 2/64\n",
      "134/134 [==============================] - 0s 358us/step - loss: 3.3439 - binary_accuracy: 0.6567 - val_loss: 7.9108 - val_binary_accuracy: 0.1471\n",
      "Epoch 3/64\n",
      "134/134 [==============================] - 0s 373us/step - loss: 1.5895 - binary_accuracy: 0.6716 - val_loss: 4.5158 - val_binary_accuracy: 0.5000\n",
      "Epoch 4/64\n",
      "134/134 [==============================] - 0s 410us/step - loss: 1.3913 - binary_accuracy: 0.7612 - val_loss: 4.4986 - val_binary_accuracy: 0.5000\n",
      "Epoch 5/64\n",
      "134/134 [==============================] - 0s 370us/step - loss: 1.3007 - binary_accuracy: 0.8134 - val_loss: 4.5094 - val_binary_accuracy: 0.5000\n",
      "Epoch 6/64\n",
      "134/134 [==============================] - 0s 339us/step - loss: 1.2662 - binary_accuracy: 0.8134 - val_loss: 4.4154 - val_binary_accuracy: 0.5000\n",
      "Epoch 7/64\n",
      "134/134 [==============================] - 0s 356us/step - loss: 0.9556 - binary_accuracy: 0.8134 - val_loss: 1.5485 - val_binary_accuracy: 0.5294\n",
      "Epoch 8/64\n",
      "134/134 [==============================] - 0s 339us/step - loss: 0.8221 - binary_accuracy: 0.8209 - val_loss: 3.5315 - val_binary_accuracy: 0.5294\n",
      "Epoch 9/64\n",
      "134/134 [==============================] - 0s 568us/step - loss: 0.7699 - binary_accuracy: 0.8507 - val_loss: 3.8604 - val_binary_accuracy: 0.5294\n",
      "Epoch 10/64\n",
      "134/134 [==============================] - 0s 624us/step - loss: 0.7432 - binary_accuracy: 0.8657 - val_loss: 3.8860 - val_binary_accuracy: 0.5294\n",
      "Epoch 11/64\n",
      "134/134 [==============================] - 0s 578us/step - loss: 0.7317 - binary_accuracy: 0.8582 - val_loss: 3.8877 - val_binary_accuracy: 0.5294\n",
      "Epoch 12/64\n",
      "134/134 [==============================] - 0s 394us/step - loss: 0.7243 - binary_accuracy: 0.8433 - val_loss: 3.8831 - val_binary_accuracy: 0.5588\n",
      "Epoch 13/64\n",
      "134/134 [==============================] - 0s 374us/step - loss: 0.7185 - binary_accuracy: 0.8507 - val_loss: 3.8844 - val_binary_accuracy: 0.5588\n",
      "Epoch 14/64\n",
      "134/134 [==============================] - 0s 459us/step - loss: 0.7127 - binary_accuracy: 0.8433 - val_loss: 3.8853 - val_binary_accuracy: 0.5588\n",
      "Epoch 15/64\n",
      "134/134 [==============================] - 0s 372us/step - loss: 0.7087 - binary_accuracy: 0.8284 - val_loss: 3.8845 - val_binary_accuracy: 0.5294\n",
      "Epoch 16/64\n",
      "134/134 [==============================] - 0s 399us/step - loss: 0.7037 - binary_accuracy: 0.8284 - val_loss: 3.8571 - val_binary_accuracy: 0.5294\n",
      "Epoch 17/64\n",
      "134/134 [==============================] - 0s 376us/step - loss: 0.7013 - binary_accuracy: 0.8433 - val_loss: 3.8559 - val_binary_accuracy: 0.5294\n",
      "Epoch 18/64\n",
      "134/134 [==============================] - 0s 383us/step - loss: 0.6984 - binary_accuracy: 0.8209 - val_loss: 3.5550 - val_binary_accuracy: 0.5000\n",
      "Epoch 19/64\n",
      "134/134 [==============================] - 0s 436us/step - loss: 0.6971 - binary_accuracy: 0.8284 - val_loss: 3.4695 - val_binary_accuracy: 0.5000\n",
      "Epoch 20/64\n",
      "134/134 [==============================] - 0s 473us/step - loss: 0.6953 - binary_accuracy: 0.8209 - val_loss: 3.4740 - val_binary_accuracy: 0.5000\n",
      "Epoch 21/64\n",
      "134/134 [==============================] - 0s 496us/step - loss: 0.6943 - binary_accuracy: 0.8358 - val_loss: 3.4441 - val_binary_accuracy: 0.5000\n",
      "Epoch 22/64\n",
      "134/134 [==============================] - 0s 497us/step - loss: 0.6936 - binary_accuracy: 0.8209 - val_loss: 3.4296 - val_binary_accuracy: 0.4706\n",
      "Epoch 23/64\n",
      "134/134 [==============================] - 0s 517us/step - loss: 0.6925 - binary_accuracy: 0.8284 - val_loss: 3.3986 - val_binary_accuracy: 0.4706\n",
      "Epoch 24/64\n",
      "134/134 [==============================] - 0s 418us/step - loss: 0.6915 - binary_accuracy: 0.8284 - val_loss: 3.3901 - val_binary_accuracy: 0.4706\n",
      "Epoch 25/64\n",
      "134/134 [==============================] - 0s 383us/step - loss: 0.6909 - binary_accuracy: 0.8284 - val_loss: 3.3904 - val_binary_accuracy: 0.4706\n",
      "Epoch 26/64\n",
      "134/134 [==============================] - 0s 480us/step - loss: 0.6906 - binary_accuracy: 0.8284 - val_loss: 3.3984 - val_binary_accuracy: 0.4706\n",
      "Epoch 27/64\n",
      "134/134 [==============================] - 0s 500us/step - loss: 0.6904 - binary_accuracy: 0.8284 - val_loss: 3.4033 - val_binary_accuracy: 0.5000\n",
      "Epoch 28/64\n",
      "134/134 [==============================] - 0s 431us/step - loss: 0.6903 - binary_accuracy: 0.8284 - val_loss: 3.4085 - val_binary_accuracy: 0.5000\n",
      "Epoch 29/64\n",
      "134/134 [==============================] - 0s 483us/step - loss: 0.6897 - binary_accuracy: 0.8284 - val_loss: 3.4024 - val_binary_accuracy: 0.5000\n",
      "Epoch 30/64\n",
      "134/134 [==============================] - 0s 416us/step - loss: 0.6893 - binary_accuracy: 0.8284 - val_loss: 3.3974 - val_binary_accuracy: 0.5000\n",
      "Epoch 31/64\n",
      "134/134 [==============================] - 0s 473us/step - loss: 0.6894 - binary_accuracy: 0.8209 - val_loss: 3.4116 - val_binary_accuracy: 0.4706\n",
      "Epoch 32/64\n",
      "134/134 [==============================] - 0s 490us/step - loss: 0.6900 - binary_accuracy: 0.8060 - val_loss: 2.9869 - val_binary_accuracy: 0.4706\n",
      "Epoch 33/64\n",
      "134/134 [==============================] - 0s 441us/step - loss: 0.6889 - binary_accuracy: 0.8060 - val_loss: 3.0835 - val_binary_accuracy: 0.4412\n",
      "Epoch 34/64\n",
      "134/134 [==============================] - 0s 496us/step - loss: 0.6891 - binary_accuracy: 0.8134 - val_loss: 3.1639 - val_binary_accuracy: 0.4412\n",
      "Epoch 35/64\n",
      "134/134 [==============================] - 0s 530us/step - loss: 0.6884 - binary_accuracy: 0.8060 - val_loss: 3.1299 - val_binary_accuracy: 0.4412\n",
      "Epoch 36/64\n",
      "134/134 [==============================] - 0s 540us/step - loss: 0.6884 - binary_accuracy: 0.8060 - val_loss: 3.1429 - val_binary_accuracy: 0.4412\n",
      "Epoch 37/64\n",
      "134/134 [==============================] - 0s 414us/step - loss: 0.6881 - binary_accuracy: 0.8060 - val_loss: 3.1488 - val_binary_accuracy: 0.4412\n",
      "Epoch 38/64\n",
      "134/134 [==============================] - 0s 387us/step - loss: 0.6880 - binary_accuracy: 0.8060 - val_loss: 3.1485 - val_binary_accuracy: 0.4412\n",
      "Epoch 39/64\n",
      "134/134 [==============================] - 0s 324us/step - loss: 0.6879 - binary_accuracy: 0.8060 - val_loss: 3.1516 - val_binary_accuracy: 0.4412\n",
      "Epoch 40/64\n",
      "134/134 [==============================] - 0s 271us/step - loss: 0.6879 - binary_accuracy: 0.8060 - val_loss: 3.1517 - val_binary_accuracy: 0.4412\n",
      "Epoch 41/64\n",
      "134/134 [==============================] - 0s 314us/step - loss: 0.6879 - binary_accuracy: 0.8060 - val_loss: 3.1517 - val_binary_accuracy: 0.4412\n",
      "Epoch 42/64\n",
      "134/134 [==============================] - 0s 287us/step - loss: 0.6879 - binary_accuracy: 0.8060 - val_loss: 3.1517 - val_binary_accuracy: 0.4412\n",
      "Epoch 43/64\n",
      "134/134 [==============================] - 0s 364us/step - loss: 0.6879 - binary_accuracy: 0.8060 - val_loss: 3.1517 - val_binary_accuracy: 0.4412\n",
      "Epoch 44/64\n",
      "134/134 [==============================] - 0s 313us/step - loss: 0.6879 - binary_accuracy: 0.8060 - val_loss: 3.1517 - val_binary_accuracy: 0.4412\n",
      "Epoch 45/64\n",
      "134/134 [==============================] - 0s 295us/step - loss: 0.6879 - binary_accuracy: 0.8060 - val_loss: 3.1517 - val_binary_accuracy: 0.4412\n",
      "Epoch 46/64\n",
      "134/134 [==============================] - 0s 322us/step - loss: 0.6879 - binary_accuracy: 0.8060 - val_loss: 3.1517 - val_binary_accuracy: 0.4412\n",
      "Epoch 47/64\n",
      "134/134 [==============================] - 0s 291us/step - loss: 0.6879 - binary_accuracy: 0.8060 - val_loss: 3.1517 - val_binary_accuracy: 0.4412\n",
      "Epoch 48/64\n",
      "134/134 [==============================] - 0s 341us/step - loss: 0.6879 - binary_accuracy: 0.8060 - val_loss: 3.1517 - val_binary_accuracy: 0.4412\n",
      "Epoch 49/64\n",
      "134/134 [==============================] - 0s 345us/step - loss: 0.6879 - binary_accuracy: 0.8060 - val_loss: 3.1517 - val_binary_accuracy: 0.4412\n",
      "Epoch 50/64\n",
      "134/134 [==============================] - 0s 357us/step - loss: 0.6879 - binary_accuracy: 0.8060 - val_loss: 3.1517 - val_binary_accuracy: 0.4412\n",
      "Epoch 51/64\n",
      "134/134 [==============================] - 0s 354us/step - loss: 0.6879 - binary_accuracy: 0.8060 - val_loss: 3.1517 - val_binary_accuracy: 0.4412\n",
      "Epoch 52/64\n"
     ]
    },
    {
     "name": "stdout",
     "output_type": "stream",
     "text": [
      "134/134 [==============================] - 0s 358us/step - loss: 0.6879 - binary_accuracy: 0.8060 - val_loss: 3.1517 - val_binary_accuracy: 0.4412\n",
      "Epoch 53/64\n",
      "134/134 [==============================] - 0s 376us/step - loss: 0.6879 - binary_accuracy: 0.8060 - val_loss: 3.1517 - val_binary_accuracy: 0.4412\n",
      "Epoch 54/64\n",
      "134/134 [==============================] - 0s 391us/step - loss: 0.6879 - binary_accuracy: 0.8060 - val_loss: 3.1517 - val_binary_accuracy: 0.4412\n",
      "Epoch 55/64\n",
      "134/134 [==============================] - 0s 395us/step - loss: 0.6879 - binary_accuracy: 0.8060 - val_loss: 3.1517 - val_binary_accuracy: 0.4412\n",
      "Epoch 56/64\n",
      "134/134 [==============================] - 0s 384us/step - loss: 0.6879 - binary_accuracy: 0.8060 - val_loss: 3.1517 - val_binary_accuracy: 0.4412\n",
      "Epoch 57/64\n",
      "134/134 [==============================] - 0s 406us/step - loss: 0.6879 - binary_accuracy: 0.8060 - val_loss: 3.1517 - val_binary_accuracy: 0.4412\n",
      "Epoch 58/64\n",
      "134/134 [==============================] - 0s 336us/step - loss: 0.6879 - binary_accuracy: 0.8060 - val_loss: 3.1517 - val_binary_accuracy: 0.4412\n",
      "Epoch 59/64\n",
      "134/134 [==============================] - 0s 369us/step - loss: 0.6879 - binary_accuracy: 0.8060 - val_loss: 3.1517 - val_binary_accuracy: 0.4412\n",
      "Epoch 60/64\n",
      "134/134 [==============================] - 0s 482us/step - loss: 0.6879 - binary_accuracy: 0.8060 - val_loss: 3.1517 - val_binary_accuracy: 0.4412\n",
      "Epoch 61/64\n",
      "134/134 [==============================] - 0s 477us/step - loss: 0.6879 - binary_accuracy: 0.8060 - val_loss: 3.1517 - val_binary_accuracy: 0.4412\n",
      "Epoch 62/64\n",
      "134/134 [==============================] - 0s 409us/step - loss: 0.6879 - binary_accuracy: 0.8060 - val_loss: 3.1517 - val_binary_accuracy: 0.4412\n",
      "Epoch 63/64\n",
      "134/134 [==============================] - 0s 440us/step - loss: 0.6879 - binary_accuracy: 0.8060 - val_loss: 3.1517 - val_binary_accuracy: 0.4412\n",
      "Epoch 64/64\n",
      "134/134 [==============================] - 0s 450us/step - loss: 0.6879 - binary_accuracy: 0.8060 - val_loss: 3.1517 - val_binary_accuracy: 0.4412\n"
     ]
    }
   ],
   "source": [
    "# Defining various initialization parameters for 61-64-16-1 MLP model\n",
    "num_classes = y_train_one_hot.shape[1]; num_features = X_train.shape[1]\n",
    "num_layers_0 = 48; num_layers_1 = 24\n",
    "# Define the keras model\n",
    "model = Sequential()\n",
    "model.add(Dense(num_layers_0, input_dim=num_features, activation='relu'))\n",
    "model.add(Dense(num_layers_1, activation='relu'))\n",
    "model.add(Dense(num_classes, activation='relu'))\n",
    "\n",
    "# Compile the keras model\n",
    "model.compile(loss='binary_crossentropy', optimizer='adam', metrics=['binary_accuracy'])\n",
    "# Fit keras model\n",
    "history = model.fit(X_train, y_train_one_hot, epochs=64, batch_size=4, validation_split = 0.20)"
   ]
  },
  {
   "cell_type": "code",
   "execution_count": 30,
   "metadata": {},
   "outputs": [
    {
     "data": {
      "image/png": "[encoded data removed]",
      "text/plain": [
       "<Figure size 432x288 with 1 Axes>"
      ]
     },
     "metadata": {
      "needs_background": "light"
     },
     "output_type": "display_data"
    }
   ],
   "source": [
    "# Plot the training/validation history of our Keras model\n",
    "colors = plt.rcParams['axes.prop_cycle'].by_key()['color']\n",
    "plot_metrics(history,  metrics =  ['loss'])"
   ]
  },
  {
   "cell_type": "code",
   "execution_count": 31,
   "metadata": {},
   "outputs": [
    {
     "data": {
      "image/png": "[encoded data removed]",
      "text/plain": [
       "<Figure size 432x288 with 1 Axes>"
      ]
     },
     "metadata": {
      "needs_background": "light"
     },
     "output_type": "display_data"
    }
   ],
   "source": [
    "plot_metrics(history,  metrics =  ['binary_accuracy']) "
   ]
  },
  {
   "cell_type": "code",
   "execution_count": 32,
   "metadata": {},
   "outputs": [
    {
     "name": "stdout",
     "output_type": "stream",
     "text": [
      "42/42 [==============================] - 0s 964us/step\n",
      "loss :  1.6969280395922917\n",
      "\n",
      "binary_accuracy :  0.5\n",
      "\n"
     ]
    },
    {
     "data": {
      "image/png": "[encoded data removed]",
      "text/plain": [
       "<Figure size 576x576 with 2 Axes>"
      ]
     },
     "metadata": {
      "needs_background": "light"
     },
     "output_type": "display_data"
    }
   ],
   "source": [
    "y_test_predictions = model.predict_classes(X_test, batch_size=1)\n",
    "baseline_results = model.evaluate(X_test, y_test_one_hot,\n",
    "                                  batch_size=1, verbose=1)\n",
    "\n",
    "for name, value in zip(model.metrics_names, baseline_results):\n",
    "  print(name, ': ', value)\n",
    "  print()\n",
    "\n",
    "plot_cm(y_test_one_hot, y_test_predictions)"
   ]
  },
  {
   "cell_type": "code",
   "execution_count": 23,
   "metadata": {},
   "outputs": [
    {
     "ename": "ValueError",
     "evalue": "Error when checking target: expected dense_22 to have shape (24,) but got array with shape (1,)",
     "output_type": "error",
     "traceback": [
      "\u001b[0;31m---------------------------------------------------------------------------\u001b[0m",
      "\u001b[0;31mValueError\u001b[0m                                Traceback (most recent call last)",
      "\u001b[0;32m<ipython-input-23-717234162979>\u001b[0m in \u001b[0;36m<module>\u001b[0;34m\u001b[0m\n\u001b[1;32m     14\u001b[0m \u001b[0;34m\u001b[0m\u001b[0m\n\u001b[1;32m     15\u001b[0m \u001b[0;31m# Fit keras model\u001b[0m\u001b[0;34m\u001b[0m\u001b[0;34m\u001b[0m\u001b[0;34m\u001b[0m\u001b[0m\n\u001b[0;32m---> 16\u001b[0;31m \u001b[0mhistory2\u001b[0m \u001b[0;34m=\u001b[0m \u001b[0mmodel2\u001b[0m\u001b[0;34m.\u001b[0m\u001b[0mfit\u001b[0m\u001b[0;34m(\u001b[0m\u001b[0mX_train\u001b[0m\u001b[0;34m,\u001b[0m \u001b[0my_train_one_hot\u001b[0m\u001b[0;34m,\u001b[0m \u001b[0mepochs\u001b[0m\u001b[0;34m=\u001b[0m\u001b[0;36m16\u001b[0m\u001b[0;34m,\u001b[0m \u001b[0mvalidation_split\u001b[0m \u001b[0;34m=\u001b[0m \u001b[0;36m0.20\u001b[0m\u001b[0;34m)\u001b[0m\u001b[0;34m\u001b[0m\u001b[0;34m\u001b[0m\u001b[0m\n\u001b[0m",
      "\u001b[0;32m~/projects/secret/wsu/ds/lib/python3.7/site-packages/keras/engine/training.py\u001b[0m in \u001b[0;36mfit\u001b[0;34m(self, x, y, batch_size, epochs, verbose, callbacks, validation_split, validation_data, shuffle, class_weight, sample_weight, initial_epoch, steps_per_epoch, validation_steps, validation_freq, max_queue_size, workers, use_multiprocessing, **kwargs)\u001b[0m\n\u001b[1;32m   1152\u001b[0m             \u001b[0msample_weight\u001b[0m\u001b[0;34m=\u001b[0m\u001b[0msample_weight\u001b[0m\u001b[0;34m,\u001b[0m\u001b[0;34m\u001b[0m\u001b[0;34m\u001b[0m\u001b[0m\n\u001b[1;32m   1153\u001b[0m             \u001b[0mclass_weight\u001b[0m\u001b[0;34m=\u001b[0m\u001b[0mclass_weight\u001b[0m\u001b[0;34m,\u001b[0m\u001b[0;34m\u001b[0m\u001b[0;34m\u001b[0m\u001b[0m\n\u001b[0;32m-> 1154\u001b[0;31m             batch_size=batch_size)\n\u001b[0m\u001b[1;32m   1155\u001b[0m \u001b[0;34m\u001b[0m\u001b[0m\n\u001b[1;32m   1156\u001b[0m         \u001b[0;31m# Prepare validation data.\u001b[0m\u001b[0;34m\u001b[0m\u001b[0;34m\u001b[0m\u001b[0;34m\u001b[0m\u001b[0m\n",
      "\u001b[0;32m~/projects/secret/wsu/ds/lib/python3.7/site-packages/keras/engine/training.py\u001b[0m in \u001b[0;36m_standardize_user_data\u001b[0;34m(self, x, y, sample_weight, class_weight, check_array_lengths, batch_size)\u001b[0m\n\u001b[1;32m    619\u001b[0m                 \u001b[0mfeed_output_shapes\u001b[0m\u001b[0;34m,\u001b[0m\u001b[0;34m\u001b[0m\u001b[0;34m\u001b[0m\u001b[0m\n\u001b[1;32m    620\u001b[0m                 \u001b[0mcheck_batch_axis\u001b[0m\u001b[0;34m=\u001b[0m\u001b[0;32mFalse\u001b[0m\u001b[0;34m,\u001b[0m  \u001b[0;31m# Don't enforce the batch size.\u001b[0m\u001b[0;34m\u001b[0m\u001b[0;34m\u001b[0m\u001b[0m\n\u001b[0;32m--> 621\u001b[0;31m                 exception_prefix='target')\n\u001b[0m\u001b[1;32m    622\u001b[0m \u001b[0;34m\u001b[0m\u001b[0m\n\u001b[1;32m    623\u001b[0m             \u001b[0;31m# Generate sample-wise weight values given the `sample_weight` and\u001b[0m\u001b[0;34m\u001b[0m\u001b[0;34m\u001b[0m\u001b[0;34m\u001b[0m\u001b[0m\n",
      "\u001b[0;32m~/projects/secret/wsu/ds/lib/python3.7/site-packages/keras/engine/training_utils.py\u001b[0m in \u001b[0;36mstandardize_input_data\u001b[0;34m(data, names, shapes, check_batch_axis, exception_prefix)\u001b[0m\n\u001b[1;32m    143\u001b[0m                             \u001b[0;34m': expected '\u001b[0m \u001b[0;34m+\u001b[0m \u001b[0mnames\u001b[0m\u001b[0;34m[\u001b[0m\u001b[0mi\u001b[0m\u001b[0;34m]\u001b[0m \u001b[0;34m+\u001b[0m \u001b[0;34m' to have shape '\u001b[0m \u001b[0;34m+\u001b[0m\u001b[0;34m\u001b[0m\u001b[0;34m\u001b[0m\u001b[0m\n\u001b[1;32m    144\u001b[0m                             \u001b[0mstr\u001b[0m\u001b[0;34m(\u001b[0m\u001b[0mshape\u001b[0m\u001b[0;34m)\u001b[0m \u001b[0;34m+\u001b[0m \u001b[0;34m' but got array with shape '\u001b[0m \u001b[0;34m+\u001b[0m\u001b[0;34m\u001b[0m\u001b[0;34m\u001b[0m\u001b[0m\n\u001b[0;32m--> 145\u001b[0;31m                             str(data_shape))\n\u001b[0m\u001b[1;32m    146\u001b[0m     \u001b[0;32mreturn\u001b[0m \u001b[0mdata\u001b[0m\u001b[0;34m\u001b[0m\u001b[0;34m\u001b[0m\u001b[0m\n\u001b[1;32m    147\u001b[0m \u001b[0;34m\u001b[0m\u001b[0m\n",
      "\u001b[0;31mValueError\u001b[0m: Error when checking target: expected dense_22 to have shape (24,) but got array with shape (1,)"
     ]
    }
   ],
   "source": [
    "# Defining various initialization parameters for 60-48-24-1 MLP model\n",
    "num_classes = y_train_one_hot.shape[1]; num_features = X_train.shape[1]\n",
    "num_layers_0 = 48; num_layers_1 = 24\n",
    "\n",
    "# Define the keras model\n",
    "\n",
    "model2 = Sequential()\n",
    "model2.add(Dense(num_layers_0, input_dim=num_features, activation='relu'))\n",
    "model2.add(Dense(num_layers_1, activation='relu'))\n",
    "\n",
    "adam=keras.optimizers.Adam(learning_rate=0.05)\n",
    "# Compile the keras model\n",
    "model2.compile(loss='binary_crossentropy', optimizer=adam, metrics=['binary_accuracy'])\n",
    "\n",
    "# Fit keras model\n",
    "history2 = model2.fit(X_train, y_train_one_hot, epochs=16, validation_split = 0.20)"
   ]
  },
  {
   "cell_type": "code",
   "execution_count": 97,
   "metadata": {},
   "outputs": [
    {
     "data": {
      "image/png": "[encoded data removed]",
      "text/plain": [
       "<Figure size 432x288 with 1 Axes>"
      ]
     },
     "metadata": {
      "needs_background": "light"
     },
     "output_type": "display_data"
    }
   ],
   "source": [
    "plot_metrics(history2, metrics =  ['loss'])"
   ]
  },
  {
   "cell_type": "code",
   "execution_count": 98,
   "metadata": {},
   "outputs": [
    {
     "data": {
      "image/png": "[encoded data removed]",
      "text/plain": [
       "<Figure size 432x288 with 1 Axes>"
      ]
     },
     "metadata": {
      "needs_background": "light"
     },
     "output_type": "display_data"
    }
   ],
   "source": [
    "plot_metrics(history2, metrics =  ['binary_accuracy'])"
   ]
  },
  {
   "cell_type": "code",
   "execution_count": 100,
   "metadata": {},
   "outputs": [
    {
     "name": "stdout",
     "output_type": "stream",
     "text": [
      "42/42 [==============================] - 0s 1ms/step\n",
      "loss :  0.4862921335512683\n",
      "\n",
      "binary_accuracy :  0.8095238095238095\n",
      "\n"
     ]
    },
    {
     "data": {
      "image/png": "[encoded data removed]",
      "text/plain": [
       "<Figure size 576x576 with 2 Axes>"
      ]
     },
     "metadata": {
      "needs_background": "light"
     },
     "output_type": "display_data"
    }
   ],
   "source": [
    "y_test_predictions = model2.predict_classes(X_test, batch_size=1)\n",
    "baseline_results = model2.evaluate(X_test, y_test_one_hot,\n",
    "                                  batch_size=1, verbose=1)\n",
    "\n",
    "for name, value in zip(model2.metrics_names, baseline_results):\n",
    "  print(name, ': ', value)\n",
    "  print()\n",
    "\n",
    "plot_cm(y_test_one_hot, y_test_predictions)"
   ]
  }
 ],
 "metadata": {
  "kernelspec": {
   "display_name": "Python 3",
   "language": "python",
   "name": "python3"
  },
  "language_info": {
   "codemirror_mode": {
    "name": "ipython",
    "version": 3
   },
   "file_extension": ".py",
   "mimetype": "text/x-python",
   "name": "python",
   "nbconvert_exporter": "python",
   "pygments_lexer": "ipython3",
   "version": "3.7.4"
  }
 },
 "nbformat": 4,
 "nbformat_minor": 2
}
