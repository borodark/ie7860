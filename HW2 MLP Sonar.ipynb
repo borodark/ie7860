{
 "cells": [
  {
   "cell_type": "markdown",
   "metadata": {},
   "source": [
    "# Manual Fit of Sonar Dataset"
   ]
  },
  {
   "cell_type": "code",
   "execution_count": 56,
   "metadata": {},
   "outputs": [],
   "source": [
    "import keras\n",
    "from sklearn.preprocessing import LabelBinarizer\n",
    "import matplotlib.pyplot as plt\n",
    "## Importing required libraries\n",
    "import numpy as np\n",
    "from keras.models import Sequential\n",
    "from keras.layers import Dense\n",
    "%matplotlib inline\n",
    "\n",
    "# Define function for plotting history\n",
    "import matplotlib.pyplot as plt\n",
    "def plot_metrics(history, metrics =  ['loss', 'acc']):\n",
    "  for n, metric in enumerate(metrics):\n",
    "    name = metric.replace(\"_\",\" \").capitalize()\n",
    "    #plt.figsize=(20,10)\n",
    "    plt.subplot(1,len(metrics),n+1)\n",
    "    plt.tight_layout(pad=2)\n",
    "    plt.plot(history.epoch,  history.history[metric], color=colors[0], label='Train')\n",
    "    plt.plot(history.epoch, history.history['val_'+metric],\n",
    "             color=colors[0], linestyle=\"--\", label='Val')\n",
    "    plt.xlabel('Epoch')\n",
    "    plt.ylabel(name)\n",
    "    plt.legend()\n",
    "    \n",
    "import sklearn\n",
    "import seaborn as sns\n",
    "from sklearn.metrics import confusion_matrix\n",
    "def plot_cm(labels, predictions):\n",
    "  cm = confusion_matrix(labels, predictions)\n",
    "  plt.figure(figsize=(8,8))\n",
    "  sns.heatmap(cm, annot=True, fmt=\"d\")\n",
    "  plt.title('Confusion Matrix')\n",
    "  plt.ylabel('Actual label')\n",
    "  plt.xlabel('Predicted label')"
   ]
  },
  {
   "cell_type": "markdown",
   "metadata": {},
   "source": [
    "## Import sonar dataset"
   ]
  },
  {
   "cell_type": "code",
   "execution_count": 57,
   "metadata": {},
   "outputs": [
    {
     "data": {
      "text/html": [
       "<div>\n",
       "<style scoped>\n",
       "    .dataframe tbody tr th:only-of-type {\n",
       "        vertical-align: middle;\n",
       "    }\n",
       "\n",
       "    .dataframe tbody tr th {\n",
       "        vertical-align: top;\n",
       "    }\n",
       "\n",
       "    .dataframe thead th {\n",
       "        text-align: right;\n",
       "    }\n",
       "</style>\n",
       "<table border=\"1\" class=\"dataframe\">\n",
       "  <thead>\n",
       "    <tr style=\"text-align: right;\">\n",
       "      <th></th>\n",
       "      <th>0</th>\n",
       "      <th>1</th>\n",
       "      <th>2</th>\n",
       "      <th>3</th>\n",
       "      <th>4</th>\n",
       "      <th>5</th>\n",
       "      <th>6</th>\n",
       "      <th>7</th>\n",
       "      <th>8</th>\n",
       "      <th>9</th>\n",
       "      <th>...</th>\n",
       "      <th>50</th>\n",
       "      <th>51</th>\n",
       "      <th>52</th>\n",
       "      <th>53</th>\n",
       "      <th>54</th>\n",
       "      <th>55</th>\n",
       "      <th>56</th>\n",
       "      <th>57</th>\n",
       "      <th>58</th>\n",
       "      <th>59</th>\n",
       "    </tr>\n",
       "  </thead>\n",
       "  <tbody>\n",
       "    <tr>\n",
       "      <th>0</th>\n",
       "      <td>0.0200</td>\n",
       "      <td>0.0371</td>\n",
       "      <td>0.0428</td>\n",
       "      <td>0.0207</td>\n",
       "      <td>0.0954</td>\n",
       "      <td>0.0986</td>\n",
       "      <td>0.1539</td>\n",
       "      <td>0.1601</td>\n",
       "      <td>0.3109</td>\n",
       "      <td>0.2111</td>\n",
       "      <td>...</td>\n",
       "      <td>0.0232</td>\n",
       "      <td>0.0027</td>\n",
       "      <td>0.0065</td>\n",
       "      <td>0.0159</td>\n",
       "      <td>0.0072</td>\n",
       "      <td>0.0167</td>\n",
       "      <td>0.0180</td>\n",
       "      <td>0.0084</td>\n",
       "      <td>0.0090</td>\n",
       "      <td>0.0032</td>\n",
       "    </tr>\n",
       "    <tr>\n",
       "      <th>2</th>\n",
       "      <td>0.0262</td>\n",
       "      <td>0.0582</td>\n",
       "      <td>0.1099</td>\n",
       "      <td>0.1083</td>\n",
       "      <td>0.0974</td>\n",
       "      <td>0.2280</td>\n",
       "      <td>0.2431</td>\n",
       "      <td>0.3771</td>\n",
       "      <td>0.5598</td>\n",
       "      <td>0.6194</td>\n",
       "      <td>...</td>\n",
       "      <td>0.0033</td>\n",
       "      <td>0.0232</td>\n",
       "      <td>0.0166</td>\n",
       "      <td>0.0095</td>\n",
       "      <td>0.0180</td>\n",
       "      <td>0.0244</td>\n",
       "      <td>0.0316</td>\n",
       "      <td>0.0164</td>\n",
       "      <td>0.0095</td>\n",
       "      <td>0.0078</td>\n",
       "    </tr>\n",
       "    <tr>\n",
       "      <th>3</th>\n",
       "      <td>0.0100</td>\n",
       "      <td>0.0171</td>\n",
       "      <td>0.0623</td>\n",
       "      <td>0.0205</td>\n",
       "      <td>0.0205</td>\n",
       "      <td>0.0368</td>\n",
       "      <td>0.1098</td>\n",
       "      <td>0.1276</td>\n",
       "      <td>0.0598</td>\n",
       "      <td>0.1264</td>\n",
       "      <td>...</td>\n",
       "      <td>0.0241</td>\n",
       "      <td>0.0121</td>\n",
       "      <td>0.0036</td>\n",
       "      <td>0.0150</td>\n",
       "      <td>0.0085</td>\n",
       "      <td>0.0073</td>\n",
       "      <td>0.0050</td>\n",
       "      <td>0.0044</td>\n",
       "      <td>0.0040</td>\n",
       "      <td>0.0117</td>\n",
       "    </tr>\n",
       "    <tr>\n",
       "      <th>4</th>\n",
       "      <td>0.0762</td>\n",
       "      <td>0.0666</td>\n",
       "      <td>0.0481</td>\n",
       "      <td>0.0394</td>\n",
       "      <td>0.0590</td>\n",
       "      <td>0.0649</td>\n",
       "      <td>0.1209</td>\n",
       "      <td>0.2467</td>\n",
       "      <td>0.3564</td>\n",
       "      <td>0.4459</td>\n",
       "      <td>...</td>\n",
       "      <td>0.0156</td>\n",
       "      <td>0.0031</td>\n",
       "      <td>0.0054</td>\n",
       "      <td>0.0105</td>\n",
       "      <td>0.0110</td>\n",
       "      <td>0.0015</td>\n",
       "      <td>0.0072</td>\n",
       "      <td>0.0048</td>\n",
       "      <td>0.0107</td>\n",
       "      <td>0.0094</td>\n",
       "    </tr>\n",
       "    <tr>\n",
       "      <th>5</th>\n",
       "      <td>0.0286</td>\n",
       "      <td>0.0453</td>\n",
       "      <td>0.0277</td>\n",
       "      <td>0.0174</td>\n",
       "      <td>0.0384</td>\n",
       "      <td>0.0990</td>\n",
       "      <td>0.1201</td>\n",
       "      <td>0.1833</td>\n",
       "      <td>0.2105</td>\n",
       "      <td>0.3039</td>\n",
       "      <td>...</td>\n",
       "      <td>0.0104</td>\n",
       "      <td>0.0045</td>\n",
       "      <td>0.0014</td>\n",
       "      <td>0.0038</td>\n",
       "      <td>0.0013</td>\n",
       "      <td>0.0089</td>\n",
       "      <td>0.0057</td>\n",
       "      <td>0.0027</td>\n",
       "      <td>0.0051</td>\n",
       "      <td>0.0062</td>\n",
       "    </tr>\n",
       "  </tbody>\n",
       "</table>\n",
       "<p>5 rows × 60 columns</p>\n",
       "</div>"
      ],
      "text/plain": [
       "       0       1       2       3       4       5       6       7       8   \\\n",
       "0  0.0200  0.0371  0.0428  0.0207  0.0954  0.0986  0.1539  0.1601  0.3109   \n",
       "2  0.0262  0.0582  0.1099  0.1083  0.0974  0.2280  0.2431  0.3771  0.5598   \n",
       "3  0.0100  0.0171  0.0623  0.0205  0.0205  0.0368  0.1098  0.1276  0.0598   \n",
       "4  0.0762  0.0666  0.0481  0.0394  0.0590  0.0649  0.1209  0.2467  0.3564   \n",
       "5  0.0286  0.0453  0.0277  0.0174  0.0384  0.0990  0.1201  0.1833  0.2105   \n",
       "\n",
       "       9   ...      50      51      52      53      54      55      56  \\\n",
       "0  0.2111  ...  0.0232  0.0027  0.0065  0.0159  0.0072  0.0167  0.0180   \n",
       "2  0.6194  ...  0.0033  0.0232  0.0166  0.0095  0.0180  0.0244  0.0316   \n",
       "3  0.1264  ...  0.0241  0.0121  0.0036  0.0150  0.0085  0.0073  0.0050   \n",
       "4  0.4459  ...  0.0156  0.0031  0.0054  0.0105  0.0110  0.0015  0.0072   \n",
       "5  0.3039  ...  0.0104  0.0045  0.0014  0.0038  0.0013  0.0089  0.0057   \n",
       "\n",
       "       57      58      59  \n",
       "0  0.0084  0.0090  0.0032  \n",
       "2  0.0164  0.0095  0.0078  \n",
       "3  0.0044  0.0040  0.0117  \n",
       "4  0.0048  0.0107  0.0094  \n",
       "5  0.0027  0.0051  0.0062  \n",
       "\n",
       "[5 rows x 60 columns]"
      ]
     },
     "execution_count": 57,
     "metadata": {},
     "output_type": "execute_result"
    }
   ],
   "source": [
    "    \n",
    "import pandas as pd\n",
    "df = pd.read_csv('sonar.csv', header=None)\n",
    "X_test = df.sample(frac=0.20, replace=True, random_state=1)\n",
    "Y_test = X_test[60]\n",
    "X_test.drop([60],axis=1, inplace=True)\n",
    "X_test.head()\n",
    "X_train = df.drop(X_test.index)\n",
    "Y_train = X_train[60]\n",
    "X_train.drop([60],axis=1, inplace=True)\n",
    "X_train.head()"
   ]
  },
  {
   "cell_type": "code",
   "execution_count": 58,
   "metadata": {},
   "outputs": [
    {
     "name": "stdout",
     "output_type": "stream",
     "text": [
      "X_test shape:  (42, 60)\n",
      "X_train shape:  (168, 60)\n"
     ]
    }
   ],
   "source": [
    "\n",
    "from sklearn.preprocessing import StandardScaler\n",
    "scaler = StandardScaler()\n",
    "scaler.fit(X_train)\n",
    "X_train = pd.DataFrame(scaler.transform(X_train), index=X_train.index, columns=X_train.columns)\n",
    "X_test = pd.DataFrame(scaler.transform(X_test), index=X_test.index, columns=X_test.columns)\n",
    "print(\"X_test shape: \",X_test.shape)\n",
    "print(\"X_train shape: \",X_train.shape)"
   ]
  },
  {
   "cell_type": "code",
   "execution_count": 59,
   "metadata": {},
   "outputs": [
    {
     "name": "stdout",
     "output_type": "stream",
     "text": [
      "Train labels dimension:\n",
      "(168, 1)\n",
      "Test labels dimension:\n",
      "(42, 1)\n",
      "[1]\n"
     ]
    }
   ],
   "source": [
    "## Changing labels to one-hot encoded vector\n",
    "\n",
    "lb = LabelBinarizer()\n",
    "y_train_one_hot = lb.fit_transform(Y_train)\n",
    "y_test_one_hot = lb.transform(Y_test)\n",
    "\n",
    "print('Train labels dimension:');print(y_train_one_hot.shape)\n",
    "print('Test labels dimension:');print(y_test_one_hot.shape)\n",
    "print(y_train_one_hot[100])"
   ]
  },
  {
   "cell_type": "code",
   "execution_count": 73,
   "metadata": {},
   "outputs": [
    {
     "name": "stdout",
     "output_type": "stream",
     "text": [
      "Train on 134 samples, validate on 34 samples\n",
      "Epoch 1/32\n",
      "134/134 [==============================] - 1s 7ms/step - loss: 0.5993 - binary_accuracy: 0.7015 - val_loss: 0.7039 - val_binary_accuracy: 0.5000\n",
      "Epoch 2/32\n",
      "134/134 [==============================] - 0s 528us/step - loss: 0.4472 - binary_accuracy: 0.8060 - val_loss: 0.7269 - val_binary_accuracy: 0.5294\n",
      "Epoch 3/32\n",
      "134/134 [==============================] - 0s 503us/step - loss: 0.3673 - binary_accuracy: 0.8657 - val_loss: 0.7595 - val_binary_accuracy: 0.5294\n",
      "Epoch 4/32\n",
      "134/134 [==============================] - 0s 476us/step - loss: 0.3105 - binary_accuracy: 0.9030 - val_loss: 0.7753 - val_binary_accuracy: 0.5294\n",
      "Epoch 5/32\n",
      "134/134 [==============================] - 0s 464us/step - loss: 0.2618 - binary_accuracy: 0.9328 - val_loss: 0.7067 - val_binary_accuracy: 0.5588\n",
      "Epoch 6/32\n",
      "134/134 [==============================] - 0s 486us/step - loss: 0.2186 - binary_accuracy: 0.9478 - val_loss: 0.6933 - val_binary_accuracy: 0.5882\n",
      "Epoch 7/32\n",
      "134/134 [==============================] - 0s 558us/step - loss: 0.1773 - binary_accuracy: 0.9851 - val_loss: 0.6650 - val_binary_accuracy: 0.6176\n",
      "Epoch 8/32\n",
      "134/134 [==============================] - 0s 528us/step - loss: 0.1416 - binary_accuracy: 0.9851 - val_loss: 0.6573 - val_binary_accuracy: 0.6471\n",
      "Epoch 9/32\n",
      "134/134 [==============================] - 0s 422us/step - loss: 0.1140 - binary_accuracy: 0.9851 - val_loss: 0.6625 - val_binary_accuracy: 0.6471\n",
      "Epoch 10/32\n",
      "134/134 [==============================] - 0s 490us/step - loss: 0.0906 - binary_accuracy: 0.9925 - val_loss: 0.7156 - val_binary_accuracy: 0.6471\n",
      "Epoch 11/32\n",
      "134/134 [==============================] - 0s 460us/step - loss: 0.0740 - binary_accuracy: 1.0000 - val_loss: 0.6785 - val_binary_accuracy: 0.6471\n",
      "Epoch 12/32\n",
      "134/134 [==============================] - 0s 487us/step - loss: 0.0597 - binary_accuracy: 0.9925 - val_loss: 0.6731 - val_binary_accuracy: 0.6471\n",
      "Epoch 13/32\n",
      "134/134 [==============================] - 0s 427us/step - loss: 0.0467 - binary_accuracy: 1.0000 - val_loss: 0.6899 - val_binary_accuracy: 0.6471\n",
      "Epoch 14/32\n",
      "134/134 [==============================] - 0s 572us/step - loss: 0.0376 - binary_accuracy: 1.0000 - val_loss: 0.7061 - val_binary_accuracy: 0.6471\n",
      "Epoch 15/32\n",
      "134/134 [==============================] - 0s 669us/step - loss: 0.0311 - binary_accuracy: 1.0000 - val_loss: 0.7202 - val_binary_accuracy: 0.6471\n",
      "Epoch 16/32\n",
      "134/134 [==============================] - 0s 619us/step - loss: 0.0266 - binary_accuracy: 1.0000 - val_loss: 0.7567 - val_binary_accuracy: 0.6471\n",
      "Epoch 17/32\n",
      "134/134 [==============================] - 0s 608us/step - loss: 0.0224 - binary_accuracy: 1.0000 - val_loss: 0.7541 - val_binary_accuracy: 0.6471\n",
      "Epoch 18/32\n",
      "134/134 [==============================] - 0s 633us/step - loss: 0.0188 - binary_accuracy: 1.0000 - val_loss: 0.8008 - val_binary_accuracy: 0.6471\n",
      "Epoch 19/32\n",
      "134/134 [==============================] - 0s 608us/step - loss: 0.0161 - binary_accuracy: 1.0000 - val_loss: 0.7896 - val_binary_accuracy: 0.6471\n",
      "Epoch 20/32\n",
      "134/134 [==============================] - 0s 674us/step - loss: 0.0138 - binary_accuracy: 1.0000 - val_loss: 0.8194 - val_binary_accuracy: 0.6471\n",
      "Epoch 21/32\n",
      "134/134 [==============================] - 0s 627us/step - loss: 0.0119 - binary_accuracy: 1.0000 - val_loss: 0.8510 - val_binary_accuracy: 0.6471\n",
      "Epoch 22/32\n",
      "134/134 [==============================] - 0s 649us/step - loss: 0.0103 - binary_accuracy: 1.0000 - val_loss: 0.8206 - val_binary_accuracy: 0.6471\n",
      "Epoch 23/32\n",
      "134/134 [==============================] - 0s 646us/step - loss: 0.0087 - binary_accuracy: 1.0000 - val_loss: 0.8569 - val_binary_accuracy: 0.6471\n",
      "Epoch 24/32\n",
      "134/134 [==============================] - 0s 723us/step - loss: 0.0076 - binary_accuracy: 1.0000 - val_loss: 0.8569 - val_binary_accuracy: 0.6471\n",
      "Epoch 25/32\n",
      "134/134 [==============================] - 0s 662us/step - loss: 0.0064 - binary_accuracy: 1.0000 - val_loss: 0.8572 - val_binary_accuracy: 0.6471\n",
      "Epoch 26/32\n",
      "134/134 [==============================] - 0s 705us/step - loss: 0.0056 - binary_accuracy: 1.0000 - val_loss: 0.8994 - val_binary_accuracy: 0.6471\n",
      "Epoch 27/32\n",
      "134/134 [==============================] - 0s 654us/step - loss: 0.0050 - binary_accuracy: 1.0000 - val_loss: 0.9063 - val_binary_accuracy: 0.6471\n",
      "Epoch 28/32\n",
      "134/134 [==============================] - 0s 667us/step - loss: 0.0045 - binary_accuracy: 1.0000 - val_loss: 0.9236 - val_binary_accuracy: 0.6471\n",
      "Epoch 29/32\n",
      "134/134 [==============================] - 0s 615us/step - loss: 0.0040 - binary_accuracy: 1.0000 - val_loss: 0.9433 - val_binary_accuracy: 0.6471\n",
      "Epoch 30/32\n",
      "134/134 [==============================] - 0s 661us/step - loss: 0.0036 - binary_accuracy: 1.0000 - val_loss: 0.9534 - val_binary_accuracy: 0.6471\n",
      "Epoch 31/32\n",
      "134/134 [==============================] - 0s 701us/step - loss: 0.0033 - binary_accuracy: 1.0000 - val_loss: 0.9740 - val_binary_accuracy: 0.6471\n",
      "Epoch 32/32\n",
      "134/134 [==============================] - 0s 776us/step - loss: 0.0030 - binary_accuracy: 1.0000 - val_loss: 0.9789 - val_binary_accuracy: 0.6471\n"
     ]
    }
   ],
   "source": [
    "# Defining various initialization parameters for 61-64-16-1 MLP model\n",
    "num_classes = y_train_one_hot.shape[1]; num_features = X_train.shape[1]\n",
    "num_layers_0 = 64; num_layers_1 = 16\n",
    "\n",
    "# Define the keras model\n",
    "model = Sequential()\n",
    "model.add(Dense(num_layers_0, input_dim=num_features, activation='relu'))\n",
    "model.add(Dense(num_layers_1, activation='relu'))\n",
    "model.add(Dense(num_classes, activation='sigmoid'))\n",
    "\n",
    "# Compile the keras model\n",
    "model.compile(loss='binary_crossentropy', optimizer='adam', metrics=['binary_accuracy'])\n",
    "# Fit keras model\n",
    "history = model.fit(X_train, y_train_one_hot, epochs=32, batch_size=4, validation_split = 0.20)"
   ]
  },
  {
   "cell_type": "code",
   "execution_count": 74,
   "metadata": {},
   "outputs": [
    {
     "data": {
      "image/png": "[encoded data removed]",
      "text/plain": [
       "<Figure size 432x288 with 1 Axes>"
      ]
     },
     "metadata": {
      "needs_background": "light"
     },
     "output_type": "display_data"
    }
   ],
   "source": [
    "# Plot the training/validation history of our Keras model\n",
    "colors = plt.rcParams['axes.prop_cycle'].by_key()['color']\n",
    "plot_metrics(history,  metrics =  ['loss'])"
   ]
  },
  {
   "cell_type": "code",
   "execution_count": 75,
   "metadata": {},
   "outputs": [
    {
     "data": {
      "image/png": "[encoded data removed]",
      "text/plain": [
       "<Figure size 432x288 with 1 Axes>"
      ]
     },
     "metadata": {
      "needs_background": "light"
     },
     "output_type": "display_data"
    }
   ],
   "source": [
    "plot_metrics(history,  metrics =  ['binary_accuracy']) "
   ]
  },
  {
   "cell_type": "code",
   "execution_count": 76,
   "metadata": {},
   "outputs": [
    {
     "name": "stdout",
     "output_type": "stream",
     "text": [
      "42/42 [==============================] - 0s 852us/step\n",
      "loss :  0.39359873197600626\n",
      "\n",
      "binary_accuracy :  0.8809523809523809\n",
      "\n"
     ]
    },
    {
     "data": {
      "image/png": "[encoded data removed]",
      "text/plain": [
       "<Figure size 576x576 with 2 Axes>"
      ]
     },
     "metadata": {
      "needs_background": "light"
     },
     "output_type": "display_data"
    }
   ],
   "source": [
    "y_test_predictions = model.predict_classes(X_test, batch_size=1)\n",
    "baseline_results = model.evaluate(X_test, y_test_one_hot,\n",
    "                                  batch_size=1, verbose=1)\n",
    "\n",
    "for name, value in zip(model.metrics_names, baseline_results):\n",
    "  print(name, ': ', value)\n",
    "  print()\n",
    "\n",
    "plot_cm(y_test_one_hot, y_test_predictions)"
   ]
  },
  {
   "cell_type": "code",
   "execution_count": 77,
   "metadata": {},
   "outputs": [
    {
     "name": "stdout",
     "output_type": "stream",
     "text": [
      "Train on 134 samples, validate on 34 samples\n",
      "Epoch 1/16\n",
      "134/134 [==============================] - 1s 8ms/step - loss: 0.6498 - binary_accuracy: 0.6716 - val_loss: 0.8696 - val_binary_accuracy: 0.2647\n",
      "Epoch 2/16\n",
      "134/134 [==============================] - 0s 304us/step - loss: 0.5914 - binary_accuracy: 0.7164 - val_loss: 1.0018 - val_binary_accuracy: 0.2647\n",
      "Epoch 3/16\n",
      "134/134 [==============================] - 0s 268us/step - loss: 0.5479 - binary_accuracy: 0.7239 - val_loss: 1.0978 - val_binary_accuracy: 0.2941\n",
      "Epoch 4/16\n",
      "134/134 [==============================] - 0s 306us/step - loss: 0.5148 - binary_accuracy: 0.7463 - val_loss: 1.1741 - val_binary_accuracy: 0.2941\n",
      "Epoch 5/16\n",
      "134/134 [==============================] - 0s 331us/step - loss: 0.4873 - binary_accuracy: 0.7836 - val_loss: 1.1918 - val_binary_accuracy: 0.2941\n",
      "Epoch 6/16\n",
      "134/134 [==============================] - 0s 359us/step - loss: 0.4632 - binary_accuracy: 0.7910 - val_loss: 1.1962 - val_binary_accuracy: 0.3529\n",
      "Epoch 7/16\n",
      "134/134 [==============================] - 0s 346us/step - loss: 0.4411 - binary_accuracy: 0.8134 - val_loss: 1.2138 - val_binary_accuracy: 0.3529\n",
      "Epoch 8/16\n",
      "134/134 [==============================] - 0s 374us/step - loss: 0.4191 - binary_accuracy: 0.8134 - val_loss: 1.1989 - val_binary_accuracy: 0.3824\n",
      "Epoch 9/16\n",
      "134/134 [==============================] - 0s 441us/step - loss: 0.3995 - binary_accuracy: 0.8134 - val_loss: 1.1972 - val_binary_accuracy: 0.4118\n",
      "Epoch 10/16\n",
      "134/134 [==============================] - 0s 372us/step - loss: 0.3825 - binary_accuracy: 0.8284 - val_loss: 1.1994 - val_binary_accuracy: 0.4118\n",
      "Epoch 11/16\n",
      "134/134 [==============================] - 0s 285us/step - loss: 0.3662 - binary_accuracy: 0.8284 - val_loss: 1.1959 - val_binary_accuracy: 0.4412\n",
      "Epoch 12/16\n",
      "134/134 [==============================] - 0s 353us/step - loss: 0.3538 - binary_accuracy: 0.8358 - val_loss: 1.1947 - val_binary_accuracy: 0.4412\n",
      "Epoch 13/16\n",
      "134/134 [==============================] - 0s 350us/step - loss: 0.3406 - binary_accuracy: 0.8507 - val_loss: 1.1980 - val_binary_accuracy: 0.4706\n",
      "Epoch 14/16\n",
      "134/134 [==============================] - 0s 356us/step - loss: 0.3257 - binary_accuracy: 0.8507 - val_loss: 1.1651 - val_binary_accuracy: 0.4706\n",
      "Epoch 15/16\n",
      "134/134 [==============================] - 0s 317us/step - loss: 0.3137 - binary_accuracy: 0.8731 - val_loss: 1.1011 - val_binary_accuracy: 0.4706\n",
      "Epoch 16/16\n",
      "134/134 [==============================] - 0s 324us/step - loss: 0.2972 - binary_accuracy: 0.8806 - val_loss: 1.1409 - val_binary_accuracy: 0.4706\n"
     ]
    }
   ],
   "source": [
    "# Defining various initialization parameters for 61-64-16-32-1 MLP model\n",
    "num_classes = y_train_one_hot.shape[1]; num_features = X_train.shape[1]\n",
    "num_layers_0 = 32; num_layers_1 = 16; num_layers_2 = 8\n",
    "\n",
    "# Define the keras model\n",
    "model2 = Sequential()\n",
    "model2.add(Dense(num_layers_0, input_dim=num_features, activation='linear'))\n",
    "model2.add(Dense(num_layers_1, activation='sigmoid'))\n",
    "model2.add(Dense(num_layers_2, activation='relu'))\n",
    "model2.add(Dense(num_classes, activation='sigmoid'))\n",
    "\n",
    "# Compile the keras model\n",
    "model2.compile(loss='binary_crossentropy', optimizer='adam', metrics=['binary_accuracy'])\n",
    "# Fit keras model\n",
    "history2 = model2.fit(X_train, y_train_one_hot, epochs=16, batch_size=8, validation_split = 0.20)"
   ]
  },
  {
   "cell_type": "code",
   "execution_count": 78,
   "metadata": {},
   "outputs": [
    {
     "data": {
      "image/png": "[encoded data removed]",
      "text/plain": [
       "<Figure size 432x288 with 1 Axes>"
      ]
     },
     "metadata": {
      "needs_background": "light"
     },
     "output_type": "display_data"
    }
   ],
   "source": [
    "plot_metrics(history2, metrics =  ['loss'])"
   ]
  },
  {
   "cell_type": "code",
   "execution_count": 79,
   "metadata": {},
   "outputs": [
    {
     "data": {
      "image/png": "[encoded data removed]",
      "text/plain": [
       "<Figure size 432x288 with 1 Axes>"
      ]
     },
     "metadata": {
      "needs_background": "light"
     },
     "output_type": "display_data"
    }
   ],
   "source": [
    "plot_metrics(history2, metrics =  ['binary_accuracy'])"
   ]
  },
  {
   "cell_type": "code",
   "execution_count": 80,
   "metadata": {},
   "outputs": [
    {
     "name": "stdout",
     "output_type": "stream",
     "text": [
      "42/42 [==============================] - 0s 801us/step\n",
      "loss :  0.43426892077106805\n",
      "\n",
      "binary_accuracy :  0.8095238095238095\n",
      "\n"
     ]
    },
    {
     "data": {
      "image/png": "[encoded data removed]",
      "text/plain": [
       "<Figure size 576x576 with 2 Axes>"
      ]
     },
     "metadata": {
      "needs_background": "light"
     },
     "output_type": "display_data"
    }
   ],
   "source": [
    "y_test_predictions = model2.predict_classes(X_test, batch_size=1)\n",
    "baseline_results = model2.evaluate(X_test, y_test_one_hot,\n",
    "                                  batch_size=1, verbose=1)\n",
    "\n",
    "for name, value in zip(model2.metrics_names, baseline_results):\n",
    "  print(name, ': ', value)\n",
    "  print()\n",
    "\n",
    "plot_cm(y_test_one_hot, y_test_predictions)"
   ]
  },
  {
   "cell_type": "code",
   "execution_count": null,
   "metadata": {},
   "outputs": [],
   "source": []
  }
 ],
 "metadata": {
  "kernelspec": {
   "display_name": "Python 3",
   "language": "python",
   "name": "python3"
  },
  "language_info": {
   "codemirror_mode": {
    "name": "ipython",
    "version": 3
   },
   "file_extension": ".py",
   "mimetype": "text/x-python",
   "name": "python",
   "nbconvert_exporter": "python",
   "pygments_lexer": "ipython3",
   "version": "3.7.4"
  }
 },
 "nbformat": 4,
 "nbformat_minor": 2
}
