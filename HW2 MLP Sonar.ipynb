{
 "cells": [
  {
   "cell_type": "markdown",
   "metadata": {},
   "source": [
    "# Manual Fit of Sonar Dataset"
   ]
  },
  {
   "cell_type": "code",
   "execution_count": 81,
   "metadata": {},
   "outputs": [],
   "source": [
    "import keras\n",
    "from sklearn.preprocessing import LabelBinarizer\n",
    "import matplotlib.pyplot as plt\n",
    "## Importing required libraries\n",
    "import numpy as np\n",
    "from keras.models import Sequential\n",
    "from keras.layers import Dense\n",
    "%matplotlib inline\n",
    "\n",
    "# Define function for plotting history\n",
    "import matplotlib.pyplot as plt\n",
    "def plot_metrics(history, metrics =  ['loss', 'acc']):\n",
    "  for n, metric in enumerate(metrics):\n",
    "    name = metric.replace(\"_\",\" \").capitalize()\n",
    "    #plt.figsize=(20,10)\n",
    "    plt.subplot(1,len(metrics),n+1)\n",
    "    plt.tight_layout(pad=2)\n",
    "    plt.plot(history.epoch,  history.history[metric], color=colors[0], label='Train')\n",
    "    plt.plot(history.epoch, history.history['val_'+metric],\n",
    "             color=colors[0], linestyle=\"--\", label='Val')\n",
    "    plt.xlabel('Epoch')\n",
    "    plt.ylabel(name)\n",
    "    plt.legend()\n",
    "    \n",
    "import sklearn\n",
    "import seaborn as sns\n",
    "from sklearn.metrics import confusion_matrix\n",
    "def plot_cm(labels, predictions):\n",
    "  cm = confusion_matrix(labels, predictions)\n",
    "  plt.figure(figsize=(8,8))\n",
    "  sns.heatmap(cm, annot=True, fmt=\"d\")\n",
    "  plt.title('Confusion Matrix')\n",
    "  plt.ylabel('Actual label')\n",
    "  plt.xlabel('Predicted label')"
   ]
  },
  {
   "cell_type": "markdown",
   "metadata": {},
   "source": [
    "## Import sonar dataset"
   ]
  },
  {
   "cell_type": "code",
   "execution_count": 82,
   "metadata": {},
   "outputs": [
    {
     "data": {
      "text/html": [
       "<div>\n",
       "<style scoped>\n",
       "    .dataframe tbody tr th:only-of-type {\n",
       "        vertical-align: middle;\n",
       "    }\n",
       "\n",
       "    .dataframe tbody tr th {\n",
       "        vertical-align: top;\n",
       "    }\n",
       "\n",
       "    .dataframe thead th {\n",
       "        text-align: right;\n",
       "    }\n",
       "</style>\n",
       "<table border=\"1\" class=\"dataframe\">\n",
       "  <thead>\n",
       "    <tr style=\"text-align: right;\">\n",
       "      <th></th>\n",
       "      <th>0</th>\n",
       "      <th>1</th>\n",
       "      <th>2</th>\n",
       "      <th>3</th>\n",
       "      <th>4</th>\n",
       "      <th>5</th>\n",
       "      <th>6</th>\n",
       "      <th>7</th>\n",
       "      <th>8</th>\n",
       "      <th>9</th>\n",
       "      <th>...</th>\n",
       "      <th>50</th>\n",
       "      <th>51</th>\n",
       "      <th>52</th>\n",
       "      <th>53</th>\n",
       "      <th>54</th>\n",
       "      <th>55</th>\n",
       "      <th>56</th>\n",
       "      <th>57</th>\n",
       "      <th>58</th>\n",
       "      <th>59</th>\n",
       "    </tr>\n",
       "  </thead>\n",
       "  <tbody>\n",
       "    <tr>\n",
       "      <th>0</th>\n",
       "      <td>0.0200</td>\n",
       "      <td>0.0371</td>\n",
       "      <td>0.0428</td>\n",
       "      <td>0.0207</td>\n",
       "      <td>0.0954</td>\n",
       "      <td>0.0986</td>\n",
       "      <td>0.1539</td>\n",
       "      <td>0.1601</td>\n",
       "      <td>0.3109</td>\n",
       "      <td>0.2111</td>\n",
       "      <td>...</td>\n",
       "      <td>0.0232</td>\n",
       "      <td>0.0027</td>\n",
       "      <td>0.0065</td>\n",
       "      <td>0.0159</td>\n",
       "      <td>0.0072</td>\n",
       "      <td>0.0167</td>\n",
       "      <td>0.0180</td>\n",
       "      <td>0.0084</td>\n",
       "      <td>0.0090</td>\n",
       "      <td>0.0032</td>\n",
       "    </tr>\n",
       "    <tr>\n",
       "      <th>2</th>\n",
       "      <td>0.0262</td>\n",
       "      <td>0.0582</td>\n",
       "      <td>0.1099</td>\n",
       "      <td>0.1083</td>\n",
       "      <td>0.0974</td>\n",
       "      <td>0.2280</td>\n",
       "      <td>0.2431</td>\n",
       "      <td>0.3771</td>\n",
       "      <td>0.5598</td>\n",
       "      <td>0.6194</td>\n",
       "      <td>...</td>\n",
       "      <td>0.0033</td>\n",
       "      <td>0.0232</td>\n",
       "      <td>0.0166</td>\n",
       "      <td>0.0095</td>\n",
       "      <td>0.0180</td>\n",
       "      <td>0.0244</td>\n",
       "      <td>0.0316</td>\n",
       "      <td>0.0164</td>\n",
       "      <td>0.0095</td>\n",
       "      <td>0.0078</td>\n",
       "    </tr>\n",
       "    <tr>\n",
       "      <th>3</th>\n",
       "      <td>0.0100</td>\n",
       "      <td>0.0171</td>\n",
       "      <td>0.0623</td>\n",
       "      <td>0.0205</td>\n",
       "      <td>0.0205</td>\n",
       "      <td>0.0368</td>\n",
       "      <td>0.1098</td>\n",
       "      <td>0.1276</td>\n",
       "      <td>0.0598</td>\n",
       "      <td>0.1264</td>\n",
       "      <td>...</td>\n",
       "      <td>0.0241</td>\n",
       "      <td>0.0121</td>\n",
       "      <td>0.0036</td>\n",
       "      <td>0.0150</td>\n",
       "      <td>0.0085</td>\n",
       "      <td>0.0073</td>\n",
       "      <td>0.0050</td>\n",
       "      <td>0.0044</td>\n",
       "      <td>0.0040</td>\n",
       "      <td>0.0117</td>\n",
       "    </tr>\n",
       "    <tr>\n",
       "      <th>4</th>\n",
       "      <td>0.0762</td>\n",
       "      <td>0.0666</td>\n",
       "      <td>0.0481</td>\n",
       "      <td>0.0394</td>\n",
       "      <td>0.0590</td>\n",
       "      <td>0.0649</td>\n",
       "      <td>0.1209</td>\n",
       "      <td>0.2467</td>\n",
       "      <td>0.3564</td>\n",
       "      <td>0.4459</td>\n",
       "      <td>...</td>\n",
       "      <td>0.0156</td>\n",
       "      <td>0.0031</td>\n",
       "      <td>0.0054</td>\n",
       "      <td>0.0105</td>\n",
       "      <td>0.0110</td>\n",
       "      <td>0.0015</td>\n",
       "      <td>0.0072</td>\n",
       "      <td>0.0048</td>\n",
       "      <td>0.0107</td>\n",
       "      <td>0.0094</td>\n",
       "    </tr>\n",
       "    <tr>\n",
       "      <th>5</th>\n",
       "      <td>0.0286</td>\n",
       "      <td>0.0453</td>\n",
       "      <td>0.0277</td>\n",
       "      <td>0.0174</td>\n",
       "      <td>0.0384</td>\n",
       "      <td>0.0990</td>\n",
       "      <td>0.1201</td>\n",
       "      <td>0.1833</td>\n",
       "      <td>0.2105</td>\n",
       "      <td>0.3039</td>\n",
       "      <td>...</td>\n",
       "      <td>0.0104</td>\n",
       "      <td>0.0045</td>\n",
       "      <td>0.0014</td>\n",
       "      <td>0.0038</td>\n",
       "      <td>0.0013</td>\n",
       "      <td>0.0089</td>\n",
       "      <td>0.0057</td>\n",
       "      <td>0.0027</td>\n",
       "      <td>0.0051</td>\n",
       "      <td>0.0062</td>\n",
       "    </tr>\n",
       "  </tbody>\n",
       "</table>\n",
       "<p>5 rows × 60 columns</p>\n",
       "</div>"
      ],
      "text/plain": [
       "       0       1       2       3       4       5       6       7       8   \\\n",
       "0  0.0200  0.0371  0.0428  0.0207  0.0954  0.0986  0.1539  0.1601  0.3109   \n",
       "2  0.0262  0.0582  0.1099  0.1083  0.0974  0.2280  0.2431  0.3771  0.5598   \n",
       "3  0.0100  0.0171  0.0623  0.0205  0.0205  0.0368  0.1098  0.1276  0.0598   \n",
       "4  0.0762  0.0666  0.0481  0.0394  0.0590  0.0649  0.1209  0.2467  0.3564   \n",
       "5  0.0286  0.0453  0.0277  0.0174  0.0384  0.0990  0.1201  0.1833  0.2105   \n",
       "\n",
       "       9   ...      50      51      52      53      54      55      56  \\\n",
       "0  0.2111  ...  0.0232  0.0027  0.0065  0.0159  0.0072  0.0167  0.0180   \n",
       "2  0.6194  ...  0.0033  0.0232  0.0166  0.0095  0.0180  0.0244  0.0316   \n",
       "3  0.1264  ...  0.0241  0.0121  0.0036  0.0150  0.0085  0.0073  0.0050   \n",
       "4  0.4459  ...  0.0156  0.0031  0.0054  0.0105  0.0110  0.0015  0.0072   \n",
       "5  0.3039  ...  0.0104  0.0045  0.0014  0.0038  0.0013  0.0089  0.0057   \n",
       "\n",
       "       57      58      59  \n",
       "0  0.0084  0.0090  0.0032  \n",
       "2  0.0164  0.0095  0.0078  \n",
       "3  0.0044  0.0040  0.0117  \n",
       "4  0.0048  0.0107  0.0094  \n",
       "5  0.0027  0.0051  0.0062  \n",
       "\n",
       "[5 rows x 60 columns]"
      ]
     },
     "execution_count": 82,
     "metadata": {},
     "output_type": "execute_result"
    }
   ],
   "source": [
    "    \n",
    "import pandas as pd\n",
    "df = pd.read_csv('sonar.csv', header=None)\n",
    "X_test = df.sample(frac=0.20, replace=True, random_state=1)\n",
    "Y_test = X_test[60]\n",
    "X_test.drop([60],axis=1, inplace=True)\n",
    "X_test.head()\n",
    "X_train = df.drop(X_test.index)\n",
    "Y_train = X_train[60]\n",
    "X_train.drop([60],axis=1, inplace=True)\n",
    "X_train.head()"
   ]
  },
  {
   "cell_type": "code",
   "execution_count": 83,
   "metadata": {},
   "outputs": [
    {
     "name": "stdout",
     "output_type": "stream",
     "text": [
      "X_test shape:  (42, 60)\n",
      "X_train shape:  (168, 60)\n"
     ]
    }
   ],
   "source": [
    "\n",
    "from sklearn.preprocessing import StandardScaler\n",
    "scaler = StandardScaler()\n",
    "scaler.fit(X_train)\n",
    "X_train = pd.DataFrame(scaler.transform(X_train), index=X_train.index, columns=X_train.columns)\n",
    "X_test = pd.DataFrame(scaler.transform(X_test), index=X_test.index, columns=X_test.columns)\n",
    "print(\"X_test shape: \",X_test.shape)\n",
    "print(\"X_train shape: \",X_train.shape)"
   ]
  },
  {
   "cell_type": "code",
   "execution_count": 84,
   "metadata": {},
   "outputs": [
    {
     "name": "stdout",
     "output_type": "stream",
     "text": [
      "Train labels dimension:\n",
      "(168, 1)\n",
      "Test labels dimension:\n",
      "(42, 1)\n",
      "[1]\n"
     ]
    }
   ],
   "source": [
    "## Changing labels to one-hot encoded vector\n",
    "\n",
    "lb = LabelBinarizer()\n",
    "y_train_one_hot = lb.fit_transform(Y_train)\n",
    "y_test_one_hot = lb.transform(Y_test)\n",
    "\n",
    "print('Train labels dimension:');print(y_train_one_hot.shape)\n",
    "print('Test labels dimension:');print(y_test_one_hot.shape)\n",
    "print(y_train_one_hot[100])"
   ]
  },
  {
   "cell_type": "code",
   "execution_count": 85,
   "metadata": {},
   "outputs": [
    {
     "name": "stdout",
     "output_type": "stream",
     "text": [
      "Train on 134 samples, validate on 34 samples\n",
      "Epoch 1/32\n",
      "134/134 [==============================] - 1s 9ms/step - loss: 0.6078 - binary_accuracy: 0.6940 - val_loss: 1.0289 - val_binary_accuracy: 0.1471\n",
      "Epoch 2/32\n",
      "134/134 [==============================] - 0s 483us/step - loss: 0.4585 - binary_accuracy: 0.8582 - val_loss: 1.2267 - val_binary_accuracy: 0.1765\n",
      "Epoch 3/32\n",
      "134/134 [==============================] - 0s 554us/step - loss: 0.3725 - binary_accuracy: 0.8881 - val_loss: 1.3430 - val_binary_accuracy: 0.2647\n",
      "Epoch 4/32\n",
      "134/134 [==============================] - 0s 526us/step - loss: 0.3061 - binary_accuracy: 0.8955 - val_loss: 1.3381 - val_binary_accuracy: 0.2647\n",
      "Epoch 5/32\n",
      "134/134 [==============================] - 0s 600us/step - loss: 0.2477 - binary_accuracy: 0.9403 - val_loss: 1.4093 - val_binary_accuracy: 0.2647\n",
      "Epoch 6/32\n",
      "134/134 [==============================] - 0s 631us/step - loss: 0.2079 - binary_accuracy: 0.9403 - val_loss: 1.4098 - val_binary_accuracy: 0.2941\n",
      "Epoch 7/32\n",
      "134/134 [==============================] - 0s 534us/step - loss: 0.1681 - binary_accuracy: 0.9627 - val_loss: 1.5101 - val_binary_accuracy: 0.2941\n",
      "Epoch 8/32\n",
      "134/134 [==============================] - 0s 629us/step - loss: 0.1376 - binary_accuracy: 0.9851 - val_loss: 1.4694 - val_binary_accuracy: 0.3824\n",
      "Epoch 9/32\n",
      "134/134 [==============================] - 0s 709us/step - loss: 0.1143 - binary_accuracy: 0.9925 - val_loss: 1.5117 - val_binary_accuracy: 0.3824\n",
      "Epoch 10/32\n",
      "134/134 [==============================] - 0s 698us/step - loss: 0.0932 - binary_accuracy: 1.0000 - val_loss: 1.4953 - val_binary_accuracy: 0.4412\n",
      "Epoch 11/32\n",
      "134/134 [==============================] - 0s 631us/step - loss: 0.0794 - binary_accuracy: 1.0000 - val_loss: 1.5175 - val_binary_accuracy: 0.4706\n",
      "Epoch 12/32\n",
      "134/134 [==============================] - 0s 541us/step - loss: 0.0630 - binary_accuracy: 1.0000 - val_loss: 1.5201 - val_binary_accuracy: 0.4706\n",
      "Epoch 13/32\n",
      "134/134 [==============================] - 0s 482us/step - loss: 0.0520 - binary_accuracy: 1.0000 - val_loss: 1.4956 - val_binary_accuracy: 0.4706\n",
      "Epoch 14/32\n",
      "134/134 [==============================] - 0s 600us/step - loss: 0.0421 - binary_accuracy: 1.0000 - val_loss: 1.5155 - val_binary_accuracy: 0.4706\n",
      "Epoch 15/32\n",
      "134/134 [==============================] - 0s 693us/step - loss: 0.0342 - binary_accuracy: 1.0000 - val_loss: 1.5207 - val_binary_accuracy: 0.4706\n",
      "Epoch 16/32\n",
      "134/134 [==============================] - 0s 745us/step - loss: 0.0278 - binary_accuracy: 1.0000 - val_loss: 1.5108 - val_binary_accuracy: 0.4706\n",
      "Epoch 17/32\n",
      "134/134 [==============================] - 0s 701us/step - loss: 0.0227 - binary_accuracy: 1.0000 - val_loss: 1.5299 - val_binary_accuracy: 0.4706\n",
      "Epoch 18/32\n",
      "134/134 [==============================] - 0s 683us/step - loss: 0.0189 - binary_accuracy: 1.0000 - val_loss: 1.5130 - val_binary_accuracy: 0.5000\n",
      "Epoch 19/32\n",
      "134/134 [==============================] - 0s 626us/step - loss: 0.0155 - binary_accuracy: 1.0000 - val_loss: 1.5131 - val_binary_accuracy: 0.5000\n",
      "Epoch 20/32\n",
      "134/134 [==============================] - 0s 653us/step - loss: 0.0130 - binary_accuracy: 1.0000 - val_loss: 1.5294 - val_binary_accuracy: 0.5000\n",
      "Epoch 21/32\n",
      "134/134 [==============================] - 0s 636us/step - loss: 0.0110 - binary_accuracy: 1.0000 - val_loss: 1.5620 - val_binary_accuracy: 0.5294\n",
      "Epoch 22/32\n",
      "134/134 [==============================] - 0s 626us/step - loss: 0.0095 - binary_accuracy: 1.0000 - val_loss: 1.5552 - val_binary_accuracy: 0.5294\n",
      "Epoch 23/32\n",
      "134/134 [==============================] - 0s 673us/step - loss: 0.0082 - binary_accuracy: 1.0000 - val_loss: 1.5679 - val_binary_accuracy: 0.5588\n",
      "Epoch 24/32\n",
      "134/134 [==============================] - 0s 701us/step - loss: 0.0072 - binary_accuracy: 1.0000 - val_loss: 1.5854 - val_binary_accuracy: 0.5588\n",
      "Epoch 25/32\n",
      "134/134 [==============================] - 0s 608us/step - loss: 0.0064 - binary_accuracy: 1.0000 - val_loss: 1.5906 - val_binary_accuracy: 0.5588\n",
      "Epoch 26/32\n",
      "134/134 [==============================] - 0s 663us/step - loss: 0.0056 - binary_accuracy: 1.0000 - val_loss: 1.6054 - val_binary_accuracy: 0.5588\n",
      "Epoch 27/32\n",
      "134/134 [==============================] - 0s 660us/step - loss: 0.0050 - binary_accuracy: 1.0000 - val_loss: 1.6187 - val_binary_accuracy: 0.5588\n",
      "Epoch 28/32\n",
      "134/134 [==============================] - 0s 762us/step - loss: 0.0045 - binary_accuracy: 1.0000 - val_loss: 1.6217 - val_binary_accuracy: 0.5588\n",
      "Epoch 29/32\n",
      "134/134 [==============================] - 0s 707us/step - loss: 0.0041 - binary_accuracy: 1.0000 - val_loss: 1.6323 - val_binary_accuracy: 0.5588\n",
      "Epoch 30/32\n",
      "134/134 [==============================] - 0s 679us/step - loss: 0.0037 - binary_accuracy: 1.0000 - val_loss: 1.6442 - val_binary_accuracy: 0.5588\n",
      "Epoch 31/32\n",
      "134/134 [==============================] - 0s 713us/step - loss: 0.0034 - binary_accuracy: 1.0000 - val_loss: 1.6549 - val_binary_accuracy: 0.5588\n",
      "Epoch 32/32\n",
      "134/134 [==============================] - 0s 679us/step - loss: 0.0031 - binary_accuracy: 1.0000 - val_loss: 1.6650 - val_binary_accuracy: 0.5588\n"
     ]
    }
   ],
   "source": [
    "# Defining various initialization parameters for 61-64-16-1 MLP model\n",
    "num_classes = y_train_one_hot.shape[1]; num_features = X_train.shape[1]\n",
    "num_layers_0 = 64; num_layers_1 = 16\n",
    "\n",
    "# Define the keras model\n",
    "model = Sequential()\n",
    "model.add(Dense(num_layers_0, input_dim=num_features, activation='relu'))\n",
    "model.add(Dense(num_layers_1, activation='relu'))\n",
    "model.add(Dense(num_classes, activation='sigmoid'))\n",
    "\n",
    "# Compile the keras model\n",
    "model.compile(loss='binary_crossentropy', optimizer='adam', metrics=['binary_accuracy'])\n",
    "# Fit keras model\n",
    "history = model.fit(X_train, y_train_one_hot, epochs=32, batch_size=4, validation_split = 0.20)"
   ]
  },
  {
   "cell_type": "code",
   "execution_count": 90,
   "metadata": {},
   "outputs": [
    {
     "data": {
      "image/png": "[encoded data removed]",
      "text/plain": [
       "<Figure size 432x288 with 1 Axes>"
      ]
     },
     "metadata": {
      "needs_background": "light"
     },
     "output_type": "display_data"
    }
   ],
   "source": [
    "# Plot the training/validation history of our Keras model\n",
    "colors = plt.rcParams['axes.prop_cycle'].by_key()['color']\n",
    "plot_metrics(history,  metrics =  ['loss'])"
   ]
  },
  {
   "cell_type": "code",
   "execution_count": 91,
   "metadata": {},
   "outputs": [
    {
     "data": {
      "image/png": "[encoded data removed]",
      "text/plain": [
       "<Figure size 432x288 with 1 Axes>"
      ]
     },
     "metadata": {
      "needs_background": "light"
     },
     "output_type": "display_data"
    }
   ],
   "source": [
    "plot_metrics(history,  metrics =  ['binary_accuracy']) "
   ]
  },
  {
   "cell_type": "code",
   "execution_count": 92,
   "metadata": {},
   "outputs": [
    {
     "name": "stdout",
     "output_type": "stream",
     "text": [
      "42/42 [==============================] - 0s 2ms/step\n",
      "loss :  0.58803293892289\n",
      "\n",
      "binary_accuracy :  0.8571428571428571\n",
      "\n"
     ]
    },
    {
     "data": {
      "image/png": "[encoded data removed]",
      "text/plain": [
       "<Figure size 576x576 with 2 Axes>"
      ]
     },
     "metadata": {
      "needs_background": "light"
     },
     "output_type": "display_data"
    }
   ],
   "source": [
    "y_test_predictions = model.predict_classes(X_test, batch_size=1)\n",
    "baseline_results = model.evaluate(X_test, y_test_one_hot,\n",
    "                                  batch_size=1, verbose=1)\n",
    "\n",
    "for name, value in zip(model.metrics_names, baseline_results):\n",
    "  print(name, ': ', value)\n",
    "  print()\n",
    "\n",
    "plot_cm(y_test_one_hot, y_test_predictions)"
   ]
  },
  {
   "cell_type": "code",
   "execution_count": 93,
   "metadata": {},
   "outputs": [
    {
     "name": "stdout",
     "output_type": "stream",
     "text": [
      "Train on 134 samples, validate on 34 samples\n",
      "Epoch 1/16\n",
      "134/134 [==============================] - 1s 9ms/step - loss: 0.7192 - binary_accuracy: 0.4030 - val_loss: 0.6364 - val_binary_accuracy: 0.8824\n",
      "Epoch 2/16\n",
      "134/134 [==============================] - 0s 321us/step - loss: 0.6738 - binary_accuracy: 0.5896 - val_loss: 0.6701 - val_binary_accuracy: 0.5000\n",
      "Epoch 3/16\n",
      "134/134 [==============================] - 0s 302us/step - loss: 0.6519 - binary_accuracy: 0.7164 - val_loss: 0.6920 - val_binary_accuracy: 0.3824\n",
      "Epoch 4/16\n",
      "134/134 [==============================] - 0s 394us/step - loss: 0.6245 - binary_accuracy: 0.7612 - val_loss: 0.7505 - val_binary_accuracy: 0.3529\n",
      "Epoch 5/16\n",
      "134/134 [==============================] - 0s 414us/step - loss: 0.5802 - binary_accuracy: 0.7687 - val_loss: 0.8341 - val_binary_accuracy: 0.3235\n",
      "Epoch 6/16\n",
      "134/134 [==============================] - 0s 428us/step - loss: 0.5476 - binary_accuracy: 0.7836 - val_loss: 0.9258 - val_binary_accuracy: 0.2941\n",
      "Epoch 7/16\n",
      "134/134 [==============================] - 0s 424us/step - loss: 0.5171 - binary_accuracy: 0.7687 - val_loss: 1.0010 - val_binary_accuracy: 0.2941\n",
      "Epoch 8/16\n",
      "134/134 [==============================] - 0s 334us/step - loss: 0.4919 - binary_accuracy: 0.7687 - val_loss: 1.0414 - val_binary_accuracy: 0.3235\n",
      "Epoch 9/16\n",
      "134/134 [==============================] - 0s 306us/step - loss: 0.4712 - binary_accuracy: 0.7687 - val_loss: 1.0974 - val_binary_accuracy: 0.3235\n",
      "Epoch 10/16\n",
      "134/134 [==============================] - 0s 363us/step - loss: 0.4481 - binary_accuracy: 0.7985 - val_loss: 1.1079 - val_binary_accuracy: 0.3529\n",
      "Epoch 11/16\n",
      "134/134 [==============================] - 0s 362us/step - loss: 0.4269 - binary_accuracy: 0.8209 - val_loss: 1.1399 - val_binary_accuracy: 0.4118\n",
      "Epoch 12/16\n",
      "134/134 [==============================] - 0s 339us/step - loss: 0.4068 - binary_accuracy: 0.8284 - val_loss: 1.1590 - val_binary_accuracy: 0.4118\n",
      "Epoch 13/16\n",
      "134/134 [==============================] - 0s 319us/step - loss: 0.3897 - binary_accuracy: 0.8433 - val_loss: 1.1728 - val_binary_accuracy: 0.4706\n",
      "Epoch 14/16\n",
      "134/134 [==============================] - 0s 355us/step - loss: 0.3744 - binary_accuracy: 0.8507 - val_loss: 1.1566 - val_binary_accuracy: 0.4706\n",
      "Epoch 15/16\n",
      "134/134 [==============================] - 0s 307us/step - loss: 0.3586 - binary_accuracy: 0.8582 - val_loss: 1.1863 - val_binary_accuracy: 0.4706\n",
      "Epoch 16/16\n",
      "134/134 [==============================] - 0s 309us/step - loss: 0.3395 - binary_accuracy: 0.8657 - val_loss: 1.1662 - val_binary_accuracy: 0.4706\n"
     ]
    }
   ],
   "source": [
    "# Defining various initialization parameters for 60-64-16-8-1 MLP model\n",
    "num_classes = y_train_one_hot.shape[1]; num_features = X_train.shape[1]\n",
    "num_layers_0 = 32; num_layers_1 = 16; num_layers_2 = 8\n",
    "\n",
    "# Define the keras model\n",
    "model2 = Sequential()\n",
    "model2.add(Dense(num_layers_0, input_dim=num_features, activation='linear'))\n",
    "model2.add(Dense(num_layers_1, activation='sigmoid'))\n",
    "model2.add(Dense(num_layers_2, activation='relu'))\n",
    "model2.add(Dense(num_classes, activation='sigmoid'))\n",
    "\n",
    "# Compile the keras model\n",
    "model2.compile(loss='binary_crossentropy', optimizer='adam', metrics=['binary_accuracy'])\n",
    "# Fit keras model\n",
    "history2 = model2.fit(X_train, y_train_one_hot, epochs=16, batch_size=8, validation_split = 0.20)"
   ]
  },
  {
   "cell_type": "code",
   "execution_count": 97,
   "metadata": {},
   "outputs": [
    {
     "data": {
      "image/png": "[encoded data removed]",
      "text/plain": [
       "<Figure size 432x288 with 1 Axes>"
      ]
     },
     "metadata": {
      "needs_background": "light"
     },
     "output_type": "display_data"
    }
   ],
   "source": [
    "plot_metrics(history2, metrics =  ['loss'])"
   ]
  },
  {
   "cell_type": "code",
   "execution_count": 98,
   "metadata": {},
   "outputs": [
    {
     "data": {
      "image/png": "[encoded data removed]",
      "text/plain": [
       "<Figure size 432x288 with 1 Axes>"
      ]
     },
     "metadata": {
      "needs_background": "light"
     },
     "output_type": "display_data"
    }
   ],
   "source": [
    "plot_metrics(history2, metrics =  ['binary_accuracy'])"
   ]
  },
  {
   "cell_type": "code",
   "execution_count": 100,
   "metadata": {},
   "outputs": [
    {
     "name": "stdout",
     "output_type": "stream",
     "text": [
      "42/42 [==============================] - 0s 1ms/step\n",
      "loss :  0.4862921335512683\n",
      "\n",
      "binary_accuracy :  0.8095238095238095\n",
      "\n"
     ]
    },
    {
     "data": {
      "image/png": "[encoded data removed]",
      "text/plain": [
       "<Figure size 576x576 with 2 Axes>"
      ]
     },
     "metadata": {
      "needs_background": "light"
     },
     "output_type": "display_data"
    }
   ],
   "source": [
    "y_test_predictions = model2.predict_classes(X_test, batch_size=1)\n",
    "baseline_results = model2.evaluate(X_test, y_test_one_hot,\n",
    "                                  batch_size=1, verbose=1)\n",
    "\n",
    "for name, value in zip(model2.metrics_names, baseline_results):\n",
    "  print(name, ': ', value)\n",
    "  print()\n",
    "\n",
    "plot_cm(y_test_one_hot, y_test_predictions)"
   ]
  }
 ],
 "metadata": {
  "kernelspec": {
   "display_name": "Python 3",
   "language": "python",
   "name": "python3"
  },
  "language_info": {
   "codemirror_mode": {
    "name": "ipython",
    "version": 3
   },
   "file_extension": ".py",
   "mimetype": "text/x-python",
   "name": "python",
   "nbconvert_exporter": "python",
   "pygments_lexer": "ipython3",
   "version": "3.6.9"
  }
 },
 "nbformat": 4,
 "nbformat_minor": 2
}
