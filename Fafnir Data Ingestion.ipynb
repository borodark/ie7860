{
 "cells": [
  {
   "cell_type": "code",
   "execution_count": 16,
   "metadata": {},
   "outputs": [],
   "source": [
    "import pandas as pd\n",
    "df = pd.read_excel('bdv-data/Export 17_05_2020 02_20.xlsx', sheet_name='Results')\n",
    "\n",
    "df1 = pd.read_excel('bdv-data/Export 17_05_2020 02_20 1.xlsx', sheet_name='Results')"
   ]
  },
  {
   "cell_type": "code",
   "execution_count": 23,
   "metadata": {},
   "outputs": [
    {
     "data": {
      "text/plain": [
       "(586, 1705)"
      ]
     },
     "execution_count": 23,
     "metadata": {},
     "output_type": "execute_result"
    }
   ],
   "source": [
    "df.shape"
   ]
  },
  {
   "cell_type": "code",
   "execution_count": 24,
   "metadata": {},
   "outputs": [
    {
     "data": {
      "text/plain": [
       "(586, 1705)"
      ]
     },
     "execution_count": 24,
     "metadata": {},
     "output_type": "execute_result"
    }
   ],
   "source": [
    "df1.shape"
   ]
  },
  {
   "cell_type": "code",
   "execution_count": 25,
   "metadata": {},
   "outputs": [
    {
     "data": {
      "text/plain": [
       "(1172, 1705)"
      ]
     },
     "execution_count": 25,
     "metadata": {},
     "output_type": "execute_result"
    }
   ],
   "source": [
    "df3 = df.append(df1)\n",
    "df3.shape\n"
   ]
  },
  {
   "cell_type": "code",
   "execution_count": null,
   "metadata": {},
   "outputs": [
    {
     "name": "stdout",
     "output_type": "stream",
     "text": [
      "bdv-data/Export 17_05_2020 00_25-2.xlsx\n",
      "(586, 1705)\n",
      "(586, 1705)\n",
      "bdv-data/Export 17_05_2020 01_35.xlsx\n",
      "(586, 1705)\n",
      "(1172, 1705)\n",
      "bdv-data/Export 17_05_2020 00_18.xlsx\n",
      "(586, 1705)\n",
      "(1758, 1705)\n",
      "bdv-data/Export 17_05_2020 00_23 1.xlsx\n",
      "(586, 1705)\n",
      "(2344, 1705)\n",
      "bdv-data/Export 17_05_2020 00_31 1.xlsx\n",
      "(586, 1705)\n",
      "(2930, 1705)\n",
      "bdv-data/Export 17_05_2020 01_23.xlsx\n",
      "(586, 1705)\n",
      "(3516, 1705)\n",
      "bdv-data/Export 16_05_2020 23_59.xlsx\n",
      "(586, 1705)\n",
      "(4102, 1705)\n",
      "bdv-data/Export 17_05_2020 01_19.xlsx\n",
      "(586, 1705)\n",
      "(4688, 1705)\n",
      "bdv-data/Export 17_05_2020 00_15 1.xlsx\n",
      "(586, 1705)\n",
      "(5274, 1705)\n",
      "bdv-data/Export 17_05_2020 02_09.xlsx\n",
      "(586, 1705)\n",
      "(5860, 1705)\n",
      "bdv-data/Export 17_05_2020 00_34.xlsx\n",
      "(586, 1705)\n",
      "(6446, 1705)\n",
      "bdv-data/Export 17_05_2020 00_02 2.xlsx\n",
      "(586, 1705)\n",
      "(7032, 1705)\n",
      "bdv-data/Export 17_05_2020 00_14.xlsx\n",
      "(586, 1705)\n",
      "(7618, 1705)\n",
      "bdv-data/Export 17_05_2020 01_39.xlsx\n",
      "(586, 1705)\n",
      "(8204, 1705)\n",
      "bdv-data/Export 16_05_2020 23_59 1.xlsx\n",
      "(586, 1705)\n",
      "(8790, 1705)\n",
      "bdv-data/Export 17_05_2020 01_13 1.xlsx\n",
      "(586, 1705)\n",
      "(9376, 1705)\n",
      "bdv-data/Export 16_05_2020 23_55 1.xlsx\n",
      "(586, 1705)\n",
      "(9962, 1705)\n",
      "bdv-data/Export 17_05_2020 00_02.xlsx\n",
      "(586, 1705)\n",
      "(10548, 1705)\n",
      "bdv-data/Export 17_05_2020 01_54 1.xlsx\n",
      "(586, 1705)\n",
      "(11134, 1705)\n",
      "bdv-data/Export 17_05_2020 02_18 1.xlsx\n",
      "(586, 1705)\n",
      "(11720, 1705)\n",
      "bdv-data/Export 17_05_2020 01_54.xlsx\n",
      "(586, 1705)\n",
      "(12306, 1705)\n",
      "bdv-data/Export 17_05_2020 02_13.xlsx\n",
      "(586, 1705)\n",
      "(12892, 1705)\n",
      "bdv-data/Export 17_05_2020 01_37 1.xlsx\n",
      "(586, 1705)\n",
      "(13478, 1705)\n",
      "bdv-data/Export 16_05_2020 23_55.xlsx\n",
      "(586, 1705)\n",
      "(14064, 1705)\n",
      "bdv-data/Export 17_05_2020 02_05.xlsx\n",
      "(586, 1705)\n",
      "(14650, 1705)\n",
      "bdv-data/Export 17_05_2020 01_15.xlsx\n",
      "(586, 1705)\n",
      "(15236, 1705)\n",
      "bdv-data/Export 17_05_2020 01_25 1.xlsx\n",
      "(586, 1705)\n",
      "(15822, 1705)\n",
      "bdv-data/Export 17_05_2020 02_14 1.xlsx\n",
      "(586, 1705)\n",
      "(16408, 1705)\n",
      "bdv-data/Export 17_05_2020 01_42.xlsx\n",
      "(586, 1705)\n",
      "(16994, 1705)\n",
      "bdv-data/Export 17_05_2020 01_43.xlsx\n",
      "(586, 1705)\n",
      "(17580, 1705)\n",
      "bdv-data/Export 16_05_2020 23_57 1.xlsx\n",
      "(586, 1705)\n",
      "(18166, 1705)\n",
      "bdv-data/Export 17_05_2020 01_14.xlsx\n",
      "(586, 1705)\n",
      "(18752, 1705)\n",
      "bdv-data/Export 17_05_2020 02_04.xlsx\n",
      "(586, 1705)\n",
      "(19338, 1705)\n",
      "bdv-data/Export 17_05_2020 01_11 1.xlsx\n",
      "(586, 1705)\n",
      "(19924, 1705)\n",
      "bdv-data/Export 17_05_2020 01_18 2.xlsx\n",
      "(586, 1705)\n",
      "(20510, 1705)\n",
      "bdv-data/Export 16_05_2020 23_54.xlsx\n",
      "(586, 1705)\n",
      "(21096, 1705)\n",
      "bdv-data/Export 17_05_2020 02_20 1.xlsx\n",
      "(586, 1705)\n",
      "(21682, 1705)\n",
      "bdv-data/Export 17_05_2020 01_55.xlsx\n",
      "(586, 1705)\n",
      "(22268, 1705)\n",
      "bdv-data/Export 17_05_2020 01_27 1.xlsx\n",
      "(586, 1705)\n",
      "(22854, 1705)\n",
      "bdv-data/Export 17_05_2020 02_16 1.xlsx\n",
      "(586, 1705)\n",
      "(23440, 1705)\n",
      "bdv-data/Export 17_05_2020 01_35 1.xlsx\n",
      "(586, 1705)\n",
      "(24026, 1705)\n",
      "bdv-data/Export 17_05_2020 02_04 1.xlsx\n",
      "(586, 1705)\n",
      "(24612, 1705)\n",
      "bdv-data/Export 17_05_2020 01_38.xlsx\n",
      "(586, 1705)\n",
      "(25198, 1705)\n",
      "bdv-data/Export 17_05_2020 00_15.xlsx\n",
      "(586, 1705)\n",
      "(25784, 1705)\n",
      "bdv-data/Export 17_05_2020 00_24 2.xlsx\n",
      "(586, 1705)\n",
      "(26370, 1705)\n",
      "bdv-data/Export 17_05_2020 00_35.xlsx\n",
      "(586, 1705)\n",
      "(26956, 1705)\n",
      "bdv-data/Export 17_05_2020 02_08.xlsx\n",
      "(586, 1705)\n",
      "(27542, 1705)\n",
      "bdv-data/Export 17_05_2020 00_35-2.xlsx\n",
      "(586, 1705)\n",
      "(28128, 1705)\n",
      "bdv-data/Export 17_05_2020 00_33 1.xlsx\n",
      "(586, 1705)\n",
      "(28714, 1705)\n",
      "bdv-data/Export 17_05_2020 01_18.xlsx\n",
      "(586, 1705)\n",
      "(29300, 1705)\n",
      "bdv-data/Export 17_05_2020 00_23.xlsx\n",
      "(586, 1705)\n",
      "(29886, 1705)\n",
      "bdv-data/Export 16_05_2020 23_58.xlsx\n",
      "(586, 1705)\n",
      "(30472, 1705)\n",
      "bdv-data/Export 17_05_2020 00_28 2.xlsx\n",
      "(586, 1705)\n",
      "(31058, 1705)\n",
      "bdv-data/Export 17_05_2020 00_09 1.xlsx\n",
      "(586, 1705)\n",
      "(31644, 1705)\n",
      "bdv-data/Export 17_05_2020 01_22.xlsx\n",
      "(586, 1705)\n",
      "(32230, 1705)\n",
      "bdv-data/Export 17_05_2020 00_19.xlsx\n",
      "(586, 1705)\n",
      "(32816, 1705)\n",
      "bdv-data/Export 17_05_2020 01_34.xlsx\n",
      "(586, 1705)\n",
      "(33402, 1705)\n",
      "bdv-data/Export 17_05_2020 00_05 1.xlsx\n",
      "(586, 1705)\n",
      "(33988, 1705)\n",
      "bdv-data/Export 17_05_2020 00_12.xlsx\n",
      "(586, 1705)\n",
      "(34574, 1705)\n",
      "bdv-data/Export 17_05_2020 01_38 2.xlsx\n"
     ]
    }
   ],
   "source": [
    "import glob\n",
    "rc = pd.DataFrame()\n",
    "\n",
    "for f in glob.glob('bdv-data/Export*.xlsx'):\n",
    "    print(f)\n",
    "    df = pd.read_excel(f, sheet_name='Results')\n",
    "    print(df.shape)\n",
    "    rc = rc.append(df)\n",
    "    print(rc.shape)\n",
    "    \n",
    "    \n"
   ]
  },
  {
   "cell_type": "code",
   "execution_count": 29,
   "metadata": {},
   "outputs": [],
   "source": [
    "rc.to_hdf('bdv-data.h5', 'table', append=True)\n",
    "\n"
   ]
  },
  {
   "cell_type": "code",
   "execution_count": 31,
   "metadata": {},
   "outputs": [
    {
     "ename": "ValueError",
     "evalue": "No dataset in HDF5 file.",
     "output_type": "error",
     "traceback": [
      "\u001b[0;31m---------------------------------------------------------------------------\u001b[0m",
      "\u001b[0;31mValueError\u001b[0m                                Traceback (most recent call last)",
      "\u001b[0;32m<ipython-input-31-1b93612acfc6>\u001b[0m in \u001b[0;36m<module>\u001b[0;34m\u001b[0m\n\u001b[0;32m----> 1\u001b[0;31m \u001b[0mpd\u001b[0m\u001b[0;34m.\u001b[0m\u001b[0mread_hdf\u001b[0m\u001b[0;34m(\u001b[0m\u001b[0;34m'bdv-data.h5'\u001b[0m\u001b[0;34m)\u001b[0m\u001b[0;34m\u001b[0m\u001b[0;34m\u001b[0m\u001b[0m\n\u001b[0m",
      "\u001b[0;32m~/projects/secret/wsu/ie7860/ds/lib/python3.7/site-packages/pandas/io/pytables.py\u001b[0m in \u001b[0;36mread_hdf\u001b[0;34m(path_or_buf, key, mode, errors, where, start, stop, columns, iterator, chunksize, **kwargs)\u001b[0m\n\u001b[1;32m    404\u001b[0m             \u001b[0mgroups\u001b[0m \u001b[0;34m=\u001b[0m \u001b[0mstore\u001b[0m\u001b[0;34m.\u001b[0m\u001b[0mgroups\u001b[0m\u001b[0;34m(\u001b[0m\u001b[0;34m)\u001b[0m\u001b[0;34m\u001b[0m\u001b[0;34m\u001b[0m\u001b[0m\n\u001b[1;32m    405\u001b[0m             \u001b[0;32mif\u001b[0m \u001b[0mlen\u001b[0m\u001b[0;34m(\u001b[0m\u001b[0mgroups\u001b[0m\u001b[0;34m)\u001b[0m \u001b[0;34m==\u001b[0m \u001b[0;36m0\u001b[0m\u001b[0;34m:\u001b[0m\u001b[0;34m\u001b[0m\u001b[0;34m\u001b[0m\u001b[0m\n\u001b[0;32m--> 406\u001b[0;31m                 \u001b[0;32mraise\u001b[0m \u001b[0mValueError\u001b[0m\u001b[0;34m(\u001b[0m\u001b[0;34m\"No dataset in HDF5 file.\"\u001b[0m\u001b[0;34m)\u001b[0m\u001b[0;34m\u001b[0m\u001b[0;34m\u001b[0m\u001b[0m\n\u001b[0m\u001b[1;32m    407\u001b[0m             \u001b[0mcandidate_only_group\u001b[0m \u001b[0;34m=\u001b[0m \u001b[0mgroups\u001b[0m\u001b[0;34m[\u001b[0m\u001b[0;36m0\u001b[0m\u001b[0;34m]\u001b[0m\u001b[0;34m\u001b[0m\u001b[0;34m\u001b[0m\u001b[0m\n\u001b[1;32m    408\u001b[0m \u001b[0;34m\u001b[0m\u001b[0m\n",
      "\u001b[0;31mValueError\u001b[0m: No dataset in HDF5 file."
     ]
    }
   ],
   "source": [
    "pd.read_hdf('bdv-data.h5')"
   ]
  },
  {
   "cell_type": "code",
   "execution_count": null,
   "metadata": {},
   "outputs": [],
   "source": []
  }
 ],
 "metadata": {
  "kernelspec": {
   "display_name": "Python 3",
   "language": "python",
   "name": "python3"
  },
  "language_info": {
   "codemirror_mode": {
    "name": "ipython",
    "version": 3
   },
   "file_extension": ".py",
   "mimetype": "text/x-python",
   "name": "python",
   "nbconvert_exporter": "python",
   "pygments_lexer": "ipython3",
   "version": "3.7.4"
  }
 },
 "nbformat": 4,
 "nbformat_minor": 4
}
