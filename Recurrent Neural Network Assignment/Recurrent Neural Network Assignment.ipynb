{
 "cells": [
  {
   "cell_type": "markdown",
   "metadata": {},
   "source": [
    "###  Use Recurrent Neural Network for Multivraite Time Series \n",
    "The absolute values of *Open/Higth/Low/Close* used for the forecasting after being scaled."
   ]
  },
  {
   "cell_type": "code",
   "execution_count": 36,
   "metadata": {},
   "outputs": [],
   "source": [
    "#import all libraries\n",
    "import os\n",
    "# os.environ[\"KERAS_BACKEND\"] = \"plaidml.keras.backend\"\n",
    "import numpy as np\n",
    "import pandas as pd\n",
    "import math\n",
    "import sklearn\n",
    "import sklearn.preprocessing\n",
    "import datetime\n",
    "import matplotlib.pyplot as plt\n",
    "import tensorflow as tf\n",
    "from IPython.display import Image\n",
    "import ml_metrics as metric\n",
    "import forecasting_metrics as fmetric\n",
    "#from tensorflow.python.framework import ops\n",
    "tf.reset_default_graph()"
   ]
  },
  {
   "cell_type": "code",
   "execution_count": 37,
   "metadata": {},
   "outputs": [
    {
     "name": "stdout",
     "output_type": "stream",
     "text": [
      "      index        Date    Low   High  Close   Open\n",
      "3392      0  2005-09-27  19.10  21.40  19.30  21.05\n",
      "3391      1  2005-09-28  19.20  20.53  20.50  19.30\n",
      "3390      2  2005-09-29  20.10  20.58  20.21  20.40\n",
      "3389      3  2005-09-30  20.18  21.05  21.01  20.26\n",
      "3388      4  2005-10-03  20.90  21.75  21.50  20.90\n",
      "3387      5  2005-10-04  21.44  22.50  22.16  21.44\n",
      "3386      6  2005-10-05  21.75  22.31  22.20  22.10\n",
      "3385      7  2005-10-06  22.40  23.00  22.58  22.60\n",
      "3384      8  2005-10-07  21.80  22.60  22.15  22.25\n",
      "3383      9  2005-10-10  22.10  22.29  22.21  22.28\n",
      "       Open   High    Low  Close\n",
      "3392  21.05  21.40  19.10  19.30\n",
      "3391  19.30  20.53  19.20  20.50\n",
      "3390  20.40  20.58  20.10  20.21\n",
      "3389  20.26  21.05  20.18  21.01\n",
      "3388  20.90  21.75  20.90  21.50\n",
      "3387  21.44  22.50  21.44  22.16\n",
      "3386  22.10  22.31  21.75  22.20\n",
      "3385  22.60  23.00  22.40  22.58\n",
      "3384  22.25  22.60  21.80  22.15\n",
      "3383  22.28  22.29  22.10  22.21\n",
      "Dataset shape =  (3393, 4)\n"
     ]
    }
   ],
   "source": [
    "# import dataset \n",
    "dataset = pd.read_csv('stock_market_data-AAL.csv')\n",
    "df_stock = dataset.copy()\n",
    "df_stock = df_stock.dropna().sort_values(by=['Date'])\n",
    "print(df_stock[:10])\n",
    "df_stock = df_stock[['Open', 'High', 'Low', 'Close']]\n",
    "print(df_stock[:10])\n",
    "print('Dataset shape = ',df_stock.shape)"
   ]
  },
  {
   "cell_type": "markdown",
   "metadata": {},
   "source": [
    "### Standardizing the dataset\n",
    "The scaling is performed using sklearn’s `MinMaxScaler`."
   ]
  },
  {
   "cell_type": "code",
   "execution_count": 46,
   "metadata": {},
   "outputs": [
    {
     "name": "stdout",
     "output_type": "stream",
     "text": [
      "          Open      High       Low     Close\n",
      "3392  0.315980  0.316297  0.291495  0.286648\n",
      "3391  0.287239  0.302090  0.293146  0.306259\n",
      "3390  0.305305  0.302907  0.308010  0.301520\n",
      "3389  0.303005  0.310581  0.309331  0.314594\n",
      "3388  0.313516  0.322012  0.321222  0.322602\n",
      "3387  0.322385  0.334259  0.330140  0.333388\n",
      "3386  0.333224  0.331156  0.335260  0.334042\n",
      "3385  0.341435  0.342423  0.345995  0.340252\n",
      "3384  0.335687  0.335892  0.336086  0.333224\n",
      "3383  0.336180  0.330830  0.341040  0.334205\n"
     ]
    }
   ],
   "source": [
    "def normalize_data(df):\n",
    "    min_max_scaler = sklearn.preprocessing.MinMaxScaler()\n",
    "    df['Open'] = min_max_scaler.fit_transform(df.Open.values.reshape(-1,1))\n",
    "    df['High'] = min_max_scaler.fit_transform(df.High.values.reshape(-1,1))\n",
    "    df['Low'] = min_max_scaler.fit_transform(df.Low.values.reshape(-1,1))\n",
    "    df['Close'] = min_max_scaler.fit_transform(df['Close'].values.reshape(-1,1))\n",
    "    return df\n",
    "df_stock_norm = df_stock.copy()\n",
    "df_stock_norm = normalize_data(df_stock_norm)\n",
    "print(df_stock_norm[:10])"
   ]
  },
  {
   "cell_type": "markdown",
   "metadata": {},
   "source": [
    "### Splitting the dataset into Training and Testing: building X & Y\n",
    "The whole dataset is split into train, valid and test data. \n",
    "The result is: `x_train`, `y_train`, `x_valid`, `y_valid`, `x_test` and `y_test`. This is a crucial part."
   ]
  },
  {
   "cell_type": "code",
   "execution_count": 47,
   "metadata": {},
   "outputs": [
    {
     "name": "stdout",
     "output_type": "stream",
     "text": [
      "x_train.shape =  (2699, 19, 4)\n",
      "y_train.shape =  (2699, 4)\n",
      "x_valid.shape =  (337, 19, 4)\n",
      "y_valid.shape =  (337, 4)\n",
      "x_test.shape =  (337, 19, 4)\n",
      "y_test.shape =  (337, 4)\n"
     ]
    }
   ],
   "source": [
    "# Splitting the dataset into Train, Valid & test data \n",
    "valid_set_size_percentage = 10 \n",
    "test_set_size_percentage = 10 \n",
    "seq_len = 20 # taken sequence length as 20\n",
    "def load_data(stock, seq_len):\n",
    "    data_raw = stock.values\n",
    "    data = [] \n",
    "    for index in range(len(data_raw) - seq_len): \n",
    "        data.append(data_raw[index: index + seq_len])\n",
    "    data = np.array(data);\n",
    "    valid_set_size = int(np.round(valid_set_size_percentage/100*data.shape[0]));  \n",
    "    test_set_size = int(np.round(test_set_size_percentage/100*data.shape[0]));\n",
    "    train_set_size = data.shape[0] - (valid_set_size + test_set_size);\n",
    "    x_train = data[:train_set_size,:-1,:]\n",
    "    y_train = data[:train_set_size,-1,:]\n",
    "    x_valid = data[train_set_size:train_set_size+valid_set_size,:-1,:]\n",
    "    y_valid = data[train_set_size:train_set_size+valid_set_size,-1,:]\n",
    "    x_test = data[train_set_size+valid_set_size:,:-1,:]\n",
    "    y_test = data[train_set_size+valid_set_size:,-1,:]\n",
    "    return [x_train, y_train, x_valid, y_valid, x_test, y_test]\n",
    "\n",
    "x_train, y_train, x_valid, y_valid, x_test, y_test = load_data(df_stock_norm, seq_len)\n",
    "print('x_train.shape = ',x_train.shape)\n",
    "print('y_train.shape = ', y_train.shape)\n",
    "print('x_valid.shape = ',x_valid.shape)\n",
    "print('y_valid.shape = ', y_valid.shape)\n",
    "print('x_test.shape = ', x_test.shape)\n",
    "print('y_test.shape = ',y_test.shape)"
   ]
  },
  {
   "cell_type": "markdown",
   "metadata": {},
   "source": [
    "### Building the Model\n",
    "\n",
    "#### Parameters, Placeholders & Variables\n",
    "We will first fix the Parameters, Placeholders & Variables to building any model. The Artificial Neural Network starts with placeholders. Two placeholders is neede in order to fit the model: X contains the network’s inputs (features of the stock (OHLC) at time _T = t_ ) and Y the network’s output: _Price of the stock at T+1_ . The shape of the placeholders corresponds to [None, n_inputs] with [None] meaning that the inputs are a 2-dimensional matrix and the outputs are a 1-dimensional vector. The crucial part is to properly define the input and output dimensions so the neural net in order to design it properly. \n",
    "The variable batch size is 10. It controls the number of observations per training batch. The training is stopped when epoch reaches 100."
   ]
  },
  {
   "cell_type": "code",
   "execution_count": 56,
   "metadata": {},
   "outputs": [],
   "source": [
    "\n",
    "## Building the Model\n",
    "# parameters & Placeholders \n",
    "n_steps = seq_len-1 \n",
    "n_inputs = 4 \n",
    "n_neurons = 64 \n",
    "n_outputs = 4\n",
    "n_layers = 2\n",
    "learning_rate = 0.001\n",
    "batch_size = 10\n",
    "n_epochs = 100 \n",
    "train_set_size = x_train.shape[0]\n",
    "test_set_size = x_test.shape[0]\n",
    "tf.reset_default_graph()\n",
    "X = tf.placeholder(tf.float32, [None, n_steps, n_inputs])\n",
    "y = tf.placeholder(tf.float32, [None, n_outputs])\n"
   ]
  },
  {
   "cell_type": "markdown",
   "metadata": {},
   "source": [
    "### Designing the network architecture\n",
    "The function `get_next_batch` runs the next batch for any model . Then we will write the layers for each model separately."
   ]
  },
  {
   "cell_type": "code",
   "execution_count": 58,
   "metadata": {},
   "outputs": [],
   "source": [
    "# function to get the next batch\n",
    "index_in_epoch = 0;\n",
    "perm_array  = np.arange(x_train.shape[0])\n",
    "np.random.shuffle(perm_array)\n",
    "\n",
    "def get_next_batch(batch_size):\n",
    "    global index_in_epoch, x_train, perm_array   \n",
    "    start = index_in_epoch\n",
    "    index_in_epoch += batch_size \n",
    "    if index_in_epoch > x_train.shape[0]:\n",
    "        np.random.shuffle(perm_array) # shuffle permutation array\n",
    "        start = 0 # start next epoch\n",
    "        index_in_epoch = batch_size     \n",
    "    end = index_in_epoch\n",
    "    return x_train[perm_array[start:end]], y_train[perm_array[start:end]]"
   ]
  },
  {
   "cell_type": "markdown",
   "metadata": {},
   "source": [
    "Let's run the model using GRU cell: https://en.wikipedia.org/wiki/Gated_recurrent_unit"
   ]
  },
  {
   "cell_type": "code",
   "execution_count": 59,
   "metadata": {},
   "outputs": [],
   "source": [
    "#GRU \n",
    "layers = [tf.contrib.rnn.GRUCell(num_units=n_neurons, activation=tf.nn.leaky_relu)\n",
    "          for layer in range(n_layers)] \n",
    "                                                                  \n",
    "multi_layer_cell = tf.contrib.rnn.MultiRNNCell(layers)\n",
    "rnn_outputs, states = tf.nn.dynamic_rnn(multi_layer_cell, X, dtype=tf.float32)\n",
    "stacked_rnn_outputs = tf.reshape(rnn_outputs, [-1, n_neurons]) \n",
    "stacked_outputs = tf.layers.dense(stacked_rnn_outputs, n_outputs)\n",
    "outputs = tf.reshape(stacked_outputs, [-1, n_steps, n_outputs])\n",
    "outputs = outputs[:,n_steps-1,:] # keep only last output of sequence"
   ]
  },
  {
   "cell_type": "markdown",
   "metadata": {},
   "source": [
    "### Cost function function to optimize the model\n",
    "\n",
    "The cost function is used to generate a measure of deviation between the network’s predictions and the actual observed training targets. The `MSE` computes the average squared deviation between predictions and targets."
   ]
  },
  {
   "cell_type": "code",
   "execution_count": 60,
   "metadata": {},
   "outputs": [],
   "source": [
    "# Cost function\n",
    "loss = tf.reduce_mean(tf.square(outputs - y))"
   ]
  },
  {
   "cell_type": "markdown",
   "metadata": {},
   "source": [
    "### Optimizer\n",
    "The optimizer takes care of the necessary computations that are used to adapt the network’s weight and bias variables during training. Those computations invoke the _calculation of gradients_ that indicate the direction in which the _weights and biases have to be changed_ during training in order to minimize the network’s cost function. The development of stable and speedy optimizers is a *major field in neural network and deep learning research*."
   ]
  },
  {
   "cell_type": "code",
   "execution_count": 61,
   "metadata": {},
   "outputs": [],
   "source": [
    "#optimizer\n",
    "optimizer = tf.train.AdamOptimizer(learning_rate=learning_rate) \n",
    "training_op = optimizer.minimize(loss)"
   ]
  },
  {
   "cell_type": "markdown",
   "metadata": {},
   "source": [
    "In this model we use Adam (Adaptive Moment Estimation) Optimizer, which is an extension of the stochastic gradient descent, is one of the default optimizers in deep learning development."
   ]
  },
  {
   "cell_type": "markdown",
   "metadata": {},
   "source": [
    "### Fitting the neural network model & prediction\n",
    "\n",
    "\n",
    "The training of the network stops once the maximum number of epochs is reached or another stopping criterion defined by the user applies. The training stops when epoch reaches 100."
   ]
  },
  {
   "cell_type": "code",
   "execution_count": 62,
   "metadata": {},
   "outputs": [
    {
     "name": "stdout",
     "output_type": "stream",
     "text": [
      "0.00 epochs: RMSE train/valid = 0.487622/0.780604\n",
      "5.00 epochs: RMSE train/valid = 0.018719/0.022703\n",
      "10.00 epochs: RMSE train/valid = 0.013004/0.013554\n",
      "14.99 epochs: RMSE train/valid = 0.012757/0.015028\n",
      "19.99 epochs: RMSE train/valid = 0.011127/0.012275\n",
      "24.99 epochs: RMSE train/valid = 0.011246/0.012548\n",
      "29.99 epochs: RMSE train/valid = 0.010858/0.011753\n",
      "34.99 epochs: RMSE train/valid = 0.016264/0.022046\n",
      "39.99 epochs: RMSE train/valid = 0.010748/0.011374\n",
      "44.98 epochs: RMSE train/valid = 0.010480/0.011718\n",
      "49.98 epochs: RMSE train/valid = 0.012252/0.015440\n",
      "54.98 epochs: RMSE train/valid = 0.010411/0.011213\n",
      "59.98 epochs: RMSE train/valid = 0.010583/0.011508\n",
      "64.98 epochs: RMSE train/valid = 0.010860/0.011061\n",
      "69.97 epochs: RMSE train/valid = 0.011783/0.012862\n",
      "74.97 epochs: RMSE train/valid = 0.010892/0.012171\n",
      "79.97 epochs: RMSE train/valid = 0.010369/0.010974\n",
      "84.97 epochs: RMSE train/valid = 0.010585/0.011419\n",
      "89.97 epochs: RMSE train/valid = 0.011733/0.013727\n",
      "94.96 epochs: RMSE train/valid = 0.010623/0.011701\n",
      "99.96 epochs: RMSE train/valid = 0.014376/0.018565\n"
     ]
    }
   ],
   "source": [
    "# Fitting the model\n",
    "with tf.Session() as sess: \n",
    "    sess.run(tf.global_variables_initializer())\n",
    "    for iteration in range(int(n_epochs*train_set_size/batch_size)):\n",
    "        x_batch, y_batch = get_next_batch(batch_size) # fetch the next training batch \n",
    "        sess.run(training_op, feed_dict={X: x_batch, y: y_batch}) \n",
    "        if iteration % int(5*train_set_size/batch_size) == 0:\n",
    "            mse_train = loss.eval(feed_dict={X: x_train, y: y_train}) # get the MSE of train\n",
    "            mse_valid = loss.eval(feed_dict={X: x_valid, y: y_valid}) # get the MSE of validation\n",
    "            print('%.2f epochs: RMSE train/valid = %.6f/%.6f'%( # print RMSE to compare to ARIMA\n",
    "                iteration*batch_size/train_set_size, math.sqrt(mse_train), math.sqrt(mse_valid)))\n",
    "# Predictions\n",
    "    y_test_pred = sess.run(outputs, feed_dict={X: x_test})\n"
   ]
  },
  {
   "cell_type": "code",
   "execution_count": 63,
   "metadata": {},
   "outputs": [
    {
     "name": "stdout",
     "output_type": "stream",
     "text": [
      "(337, 4)\n"
     ]
    }
   ],
   "source": [
    "#checking prediction output nos \n",
    "print(y_test_pred.shape)"
   ]
  },
  {
   "cell_type": "markdown",
   "metadata": {},
   "source": [
    "Now we have predicted the scaled stock prices and saved as y_test_pred. We can compare these predicted stock prices with our target scaled stock prices which is y_test."
   ]
  },
  {
   "cell_type": "markdown",
   "metadata": {},
   "source": [
    "Let’s compare between our target and prediction."
   ]
  },
  {
   "cell_type": "code",
   "execution_count": 64,
   "metadata": {},
   "outputs": [
    {
     "data": {
      "image/png": "[encoded data removed]",
      "text/plain": [
       "<Figure size 1152x576 with 1 Axes>"
      ]
     },
     "metadata": {
      "needs_background": "light"
     },
     "output_type": "display_data"
    },
    {
     "name": "stdout",
     "output_type": "stream",
     "text": [
      "{'MAE': 0.01304961807455235,\n",
      " 'MAPE': 2.0792257024726557,\n",
      " 'MASE': inf,\n",
      " 'ME': -0.0065302705519578,\n",
      " 'MPE': -1.083089080684156,\n",
      " 'RMSE': 0.0172993085884861}\n"
     ]
    },
    {
     "name": "stderr",
     "output_type": "stream",
     "text": [
      "/Users/iostaptchenko/projects/secret/wsu/ie7860/Recurrent Neural Network Assignment/forecasting_metrics.py:171: RuntimeWarning: divide by zero encountered in double_scalars\n",
      "  return mae(actual, predicted) / mae(actual[seasonality:], _naive_forecasting(actual, seasonality))\n"
     ]
    }
   ],
   "source": [
    "# ploting the graph\n",
    "comp = pd.DataFrame({'test':y_test[:,3],'pred':y_test_pred[:,3]})\n",
    "plt.figure(figsize=(16,8))\n",
    "plt.plot(comp['test'], color='blue', label='Target')\n",
    "plt.plot(comp['pred'], color='black', label='Prediction')\n",
    "plt.legend()\n",
    "plt.show()\n",
    "# Print errors\n",
    "def mape(y_true, y_pred): \n",
    "    y_true, y_pred = np.array(y_true), np.array(y_pred)\n",
    "    return np.mean(np.abs((y_true - y_pred) / y_true)) * 100\n",
    "\n",
    "errors = {\n",
    "'ME':  fmetric.me(actual=comp['test'], predicted=comp['pred']),\n",
    "'RMSE': fmetric.rmse(actual=comp['test'], predicted=comp['pred']),\n",
    "'MAE':  fmetric.mae(actual=comp['test'], predicted=comp['pred']),\n",
    "'MPE':  100*fmetric.mpe(actual=comp['test'], predicted=comp['pred']),\n",
    "'MAPE': mape(comp['test'], comp['pred']),\n",
    "'MASE': fmetric.mase(actual=comp['test'], predicted=comp['pred']),\n",
    "}\n",
    "from pprint import pprint\n",
    "pprint(errors)\n"
   ]
  },
  {
   "cell_type": "markdown",
   "metadata": {},
   "source": [
    "The picture show the predicted values closely follow the target. The forecasting errors are printed to be compared with ARIMA."
   ]
  },
  {
   "cell_type": "markdown",
   "metadata": {},
   "source": [
    "\n",
    "## Conclusions\n",
    "\n",
    "The error metrics compared in the table bellow:\n",
    "\n",
    "\n",
    "| Forecasting method |            ME |       RMSE |        MAE |       MPE |     MAPE | MASE      |\n",
    "|--------------------|---------------|------------|------------|-----------|----------|-----------|\n",
    "| ARIMA              |  0.0002783467 | 0.01844228 | 0.01419282 |  97.74705 | 97.74705 | 0.3484213 |\n",
    "| RNN                | -0.0065302706 | 0.01729931 | 0.01304962 |  -1.08309 |  2.07923 | Inf       |\n",
    "\n",
    "\n",
    "While `RMSE`, `MAE` are at the same scale . Where `RNN` is superriour is in `MPE` and `MAPE`. The ARIMA error values for `MPE` and `MAPE` on this dataset renders it useles for predictions.\n",
    "The RNN  has an advantage in multivariate Time Series analisys: a few variables had been fed to network simultaniously and contributed to prediction.\n",
    "The 'R's ARIMA fit was done in signigicantly less time then training of RNN, that are more computationly intensive on the training phase.\n",
    "\n",
    "## Literature\n",
    "\n",
    "* https://github.com/borodark/wsu/blob/master/methods/casestudy/toc.md\n",
    "* Robert H. Shumway David S. Stoffer, Time Series Analysis and Its Applications With R Examples, Fourth Edition\n",
    "* Ratnadip Adhikari R. K. Agrawal, An Introductory Study on Time Series Modeling and Forecasting\n",
    "* Analysis of Financial Time Series, Financial Econometrics, RUEY S. TSAY University of Chicago\n",
    "* Tsay, Ruey S., An introduction to analysis of financial data with R/Ruey S. Tsay. p. cm. Includes index. ISBN 978-0-470-89081-3\n",
    "* An Empirical Evaluation of Generic Convolutional and Recurrent Networks for Sequence Modeling, Shaojie Bai, J. Zico Kolter, Vladlen Koltun\n",
    "* Temporal Convolutional Networks: A Unified Approach to Action Segmentation by Colin Lea Rene ́ Vidal Austin Reiter Gregory D. Hager, Johns Hopkins University\n",
    "* A comparison of performance of several artificial intelligence methods for forecasting monthly discharge time series by Wen-Chuan Wang, Kwok-Wing Chau, Chun-Tian Cheng, Lin Qiu, Journal of Hydrology, Vol. 374, No. 3-4, 2009, pp 294–306\n",
    "* https://people.duke.edu/~rnau/411diff.htm"
   ]
  }
 ],
 "metadata": {
  "kernelspec": {
   "display_name": "Python 3",
   "language": "python",
   "name": "python3"
  },
  "language_info": {
   "codemirror_mode": {
    "name": "ipython",
    "version": 3
   },
   "file_extension": ".py",
   "mimetype": "text/x-python",
   "name": "python",
   "nbconvert_exporter": "python",
   "pygments_lexer": "ipython3",
   "version": "3.7.4"
  }
 },
 "nbformat": 4,
 "nbformat_minor": 2
}
